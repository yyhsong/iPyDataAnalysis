{
 "cells": [
  {
   "cell_type": "code",
   "execution_count": 1,
   "metadata": {},
   "outputs": [],
   "source": [
    "# 导入工具包\n",
    "import pandas as pd"
   ]
  },
  {
   "cell_type": "markdown",
   "metadata": {},
   "source": [
    "## 数据勘查"
   ]
  },
  {
   "cell_type": "code",
   "execution_count": 3,
   "metadata": {},
   "outputs": [],
   "source": [
    "# 读取数据\n",
    "records = pd.read_csv('./datasets/machine_fault_records.csv', low_memory=False)  # 机械设备故障记录\n",
    "codes =  pd.read_csv('./datasets/machine_fault_codes.csv', encoding='gbk')  # 机械设备故障代码"
   ]
  },
  {
   "cell_type": "code",
   "execution_count": 4,
   "metadata": {},
   "outputs": [
    {
     "name": "stdout",
     "output_type": "stream",
     "text": [
      "<class 'pandas.core.frame.DataFrame'>\n",
      "RangeIndex: 131134 entries, 0 to 131133\n",
      "Data columns (total 19 columns):\n",
      " #   Column              Non-Null Count   Dtype  \n",
      "---  ------              --------------   -----  \n",
      " 0   ACCRUNTIMES         131134 non-null  int64  \n",
      " 1   AREA                131134 non-null  int64  \n",
      " 2   CD_VP_UNIQUENO      0 non-null       float64\n",
      " 3   CITY                131134 non-null  int64  \n",
      " 4   COLLECTTIME         131134 non-null  object \n",
      " 5   COOLANTTEMPERATURE  0 non-null       float64\n",
      " 6   DIRECTION           0 non-null       float64\n",
      " 7   ELCANDVOL           0 non-null       float64\n",
      " 8   FAULTTIME           131134 non-null  object \n",
      " 9   FMI                 131131 non-null  float64\n",
      " 10  FRID                131134 non-null  int64  \n",
      " 11  LATITUDE            131134 non-null  float64\n",
      " 12  LONGITUDE           131134 non-null  float64\n",
      " 13  PROVINCE            131134 non-null  int64  \n",
      " 14  READFLAG            131134 non-null  int64  \n",
      " 15  ROTATIONALSPEED     0 non-null       float64\n",
      " 16  SPN                 131130 non-null  float64\n",
      " 17  SYSTEMDATE          0 non-null       float64\n",
      " 18  UNIQUENO            131134 non-null  float64\n",
      "dtypes: float64(11), int64(6), object(2)\n",
      "memory usage: 19.0+ MB\n"
     ]
    }
   ],
   "source": [
    "# 数据统计信息\n",
    "records.info()"
   ]
  },
  {
   "cell_type": "code",
   "execution_count": 6,
   "metadata": {},
   "outputs": [
    {
     "name": "stdout",
     "output_type": "stream",
     "text": [
      "<class 'pandas.core.frame.DataFrame'>\n",
      "RangeIndex: 473 entries, 0 to 472\n",
      "Data columns (total 7 columns):\n",
      " #   Column        Non-Null Count  Dtype \n",
      "---  ------        --------------  ----- \n",
      " 0   CODE          473 non-null    int64 \n",
      " 1   SPN           473 non-null    int64 \n",
      " 2   FMI           473 non-null    int64 \n",
      " 3   DESCRIPTION   471 non-null    object\n",
      " 4   ENGINETYPEID  473 non-null    int64 \n",
      " 5   FAULTSOURCE   473 non-null    object\n",
      " 6   FAULTNAME     473 non-null    object\n",
      "dtypes: int64(4), object(3)\n",
      "memory usage: 26.0+ KB\n"
     ]
    }
   ],
   "source": [
    "codes.info()"
   ]
  },
  {
   "cell_type": "code",
   "execution_count": 5,
   "metadata": {},
   "outputs": [
    {
     "data": {
      "text/html": [
       "<div>\n",
       "<style scoped>\n",
       "    .dataframe tbody tr th:only-of-type {\n",
       "        vertical-align: middle;\n",
       "    }\n",
       "\n",
       "    .dataframe tbody tr th {\n",
       "        vertical-align: top;\n",
       "    }\n",
       "\n",
       "    .dataframe thead th {\n",
       "        text-align: right;\n",
       "    }\n",
       "</style>\n",
       "<table border=\"1\" class=\"dataframe\">\n",
       "  <thead>\n",
       "    <tr style=\"text-align: right;\">\n",
       "      <th></th>\n",
       "      <th>ACCRUNTIMES</th>\n",
       "      <th>AREA</th>\n",
       "      <th>CD_VP_UNIQUENO</th>\n",
       "      <th>CITY</th>\n",
       "      <th>COLLECTTIME</th>\n",
       "      <th>COOLANTTEMPERATURE</th>\n",
       "      <th>DIRECTION</th>\n",
       "      <th>ELCANDVOL</th>\n",
       "      <th>FAULTTIME</th>\n",
       "      <th>FMI</th>\n",
       "      <th>FRID</th>\n",
       "      <th>LATITUDE</th>\n",
       "      <th>LONGITUDE</th>\n",
       "      <th>PROVINCE</th>\n",
       "      <th>READFLAG</th>\n",
       "      <th>ROTATIONALSPEED</th>\n",
       "      <th>SPN</th>\n",
       "      <th>SYSTEMDATE</th>\n",
       "      <th>UNIQUENO</th>\n",
       "    </tr>\n",
       "  </thead>\n",
       "  <tbody>\n",
       "    <tr>\n",
       "      <th>2547</th>\n",
       "      <td>1182</td>\n",
       "      <td>330283</td>\n",
       "      <td>NaN</td>\n",
       "      <td>330200</td>\n",
       "      <td>2018/4/1 12:35</td>\n",
       "      <td>NaN</td>\n",
       "      <td>NaN</td>\n",
       "      <td>NaN</td>\n",
       "      <td>2018/4/1 12:35</td>\n",
       "      <td>15.0</td>\n",
       "      <td>2360830</td>\n",
       "      <td>29.766042</td>\n",
       "      <td>29.766042</td>\n",
       "      <td>330000</td>\n",
       "      <td>1</td>\n",
       "      <td>NaN</td>\n",
       "      <td>8809.0</td>\n",
       "      <td>NaN</td>\n",
       "      <td>2.020000e+17</td>\n",
       "    </tr>\n",
       "    <tr>\n",
       "      <th>74264</th>\n",
       "      <td>289</td>\n",
       "      <td>130983</td>\n",
       "      <td>NaN</td>\n",
       "      <td>130900</td>\n",
       "      <td>2018/4/10 17:20</td>\n",
       "      <td>NaN</td>\n",
       "      <td>NaN</td>\n",
       "      <td>NaN</td>\n",
       "      <td>2018/4/10 17:20</td>\n",
       "      <td>15.0</td>\n",
       "      <td>2441691</td>\n",
       "      <td>38.326450</td>\n",
       "      <td>38.326450</td>\n",
       "      <td>130000</td>\n",
       "      <td>1</td>\n",
       "      <td>NaN</td>\n",
       "      <td>8809.0</td>\n",
       "      <td>NaN</td>\n",
       "      <td>2.020000e+17</td>\n",
       "    </tr>\n",
       "    <tr>\n",
       "      <th>48111</th>\n",
       "      <td>691</td>\n",
       "      <td>500118</td>\n",
       "      <td>NaN</td>\n",
       "      <td>500100</td>\n",
       "      <td>2018/4/7 16:08</td>\n",
       "      <td>NaN</td>\n",
       "      <td>NaN</td>\n",
       "      <td>NaN</td>\n",
       "      <td>2018/4/7 16:08</td>\n",
       "      <td>15.0</td>\n",
       "      <td>2408492</td>\n",
       "      <td>29.365616</td>\n",
       "      <td>29.365616</td>\n",
       "      <td>500000</td>\n",
       "      <td>1</td>\n",
       "      <td>NaN</td>\n",
       "      <td>8809.0</td>\n",
       "      <td>NaN</td>\n",
       "      <td>2.020000e+17</td>\n",
       "    </tr>\n",
       "    <tr>\n",
       "      <th>105774</th>\n",
       "      <td>62</td>\n",
       "      <td>130434</td>\n",
       "      <td>NaN</td>\n",
       "      <td>130400</td>\n",
       "      <td>2018/4/15 17:41</td>\n",
       "      <td>NaN</td>\n",
       "      <td>NaN</td>\n",
       "      <td>NaN</td>\n",
       "      <td>2018/4/15 17:41</td>\n",
       "      <td>31.0</td>\n",
       "      <td>2489810</td>\n",
       "      <td>36.293788</td>\n",
       "      <td>36.293788</td>\n",
       "      <td>130000</td>\n",
       "      <td>1</td>\n",
       "      <td>NaN</td>\n",
       "      <td>524287.0</td>\n",
       "      <td>NaN</td>\n",
       "      <td>2.020000e+17</td>\n",
       "    </tr>\n",
       "    <tr>\n",
       "      <th>10005</th>\n",
       "      <td>1039</td>\n",
       "      <td>330109</td>\n",
       "      <td>NaN</td>\n",
       "      <td>330100</td>\n",
       "      <td>2018/4/2 13:58</td>\n",
       "      <td>NaN</td>\n",
       "      <td>NaN</td>\n",
       "      <td>NaN</td>\n",
       "      <td>2018/4/2 13:58</td>\n",
       "      <td>15.0</td>\n",
       "      <td>2370422</td>\n",
       "      <td>30.326263</td>\n",
       "      <td>30.326263</td>\n",
       "      <td>330000</td>\n",
       "      <td>1</td>\n",
       "      <td>NaN</td>\n",
       "      <td>8809.0</td>\n",
       "      <td>NaN</td>\n",
       "      <td>2.020000e+17</td>\n",
       "    </tr>\n",
       "  </tbody>\n",
       "</table>\n",
       "</div>"
      ],
      "text/plain": [
       "        ACCRUNTIMES    AREA  CD_VP_UNIQUENO    CITY      COLLECTTIME  \\\n",
       "2547           1182  330283             NaN  330200   2018/4/1 12:35   \n",
       "74264           289  130983             NaN  130900  2018/4/10 17:20   \n",
       "48111           691  500118             NaN  500100   2018/4/7 16:08   \n",
       "105774           62  130434             NaN  130400  2018/4/15 17:41   \n",
       "10005          1039  330109             NaN  330100   2018/4/2 13:58   \n",
       "\n",
       "        COOLANTTEMPERATURE  DIRECTION  ELCANDVOL        FAULTTIME   FMI  \\\n",
       "2547                   NaN        NaN        NaN   2018/4/1 12:35  15.0   \n",
       "74264                  NaN        NaN        NaN  2018/4/10 17:20  15.0   \n",
       "48111                  NaN        NaN        NaN   2018/4/7 16:08  15.0   \n",
       "105774                 NaN        NaN        NaN  2018/4/15 17:41  31.0   \n",
       "10005                  NaN        NaN        NaN   2018/4/2 13:58  15.0   \n",
       "\n",
       "           FRID   LATITUDE  LONGITUDE  PROVINCE  READFLAG  ROTATIONALSPEED  \\\n",
       "2547    2360830  29.766042  29.766042    330000         1              NaN   \n",
       "74264   2441691  38.326450  38.326450    130000         1              NaN   \n",
       "48111   2408492  29.365616  29.365616    500000         1              NaN   \n",
       "105774  2489810  36.293788  36.293788    130000         1              NaN   \n",
       "10005   2370422  30.326263  30.326263    330000         1              NaN   \n",
       "\n",
       "             SPN  SYSTEMDATE      UNIQUENO  \n",
       "2547      8809.0         NaN  2.020000e+17  \n",
       "74264     8809.0         NaN  2.020000e+17  \n",
       "48111     8809.0         NaN  2.020000e+17  \n",
       "105774  524287.0         NaN  2.020000e+17  \n",
       "10005     8809.0         NaN  2.020000e+17  "
      ]
     },
     "execution_count": 5,
     "metadata": {},
     "output_type": "execute_result"
    }
   ],
   "source": [
    "# 数据格式\n",
    "records.sample(5)"
   ]
  },
  {
   "cell_type": "code",
   "execution_count": 8,
   "metadata": {
    "scrolled": true
   },
   "outputs": [
    {
     "data": {
      "text/html": [
       "<div>\n",
       "<style scoped>\n",
       "    .dataframe tbody tr th:only-of-type {\n",
       "        vertical-align: middle;\n",
       "    }\n",
       "\n",
       "    .dataframe tbody tr th {\n",
       "        vertical-align: top;\n",
       "    }\n",
       "\n",
       "    .dataframe thead th {\n",
       "        text-align: right;\n",
       "    }\n",
       "</style>\n",
       "<table border=\"1\" class=\"dataframe\">\n",
       "  <thead>\n",
       "    <tr style=\"text-align: right;\">\n",
       "      <th></th>\n",
       "      <th>CODE</th>\n",
       "      <th>SPN</th>\n",
       "      <th>FMI</th>\n",
       "      <th>DESCRIPTION</th>\n",
       "      <th>ENGINETYPEID</th>\n",
       "      <th>FAULTSOURCE</th>\n",
       "      <th>FAULTNAME</th>\n",
       "    </tr>\n",
       "  </thead>\n",
       "  <tbody>\n",
       "    <tr>\n",
       "      <th>336</th>\n",
       "      <td>1332</td>\n",
       "      <td>522043</td>\n",
       "      <td>19</td>\n",
       "      <td>CANTOTSC1VR超时错误</td>\n",
       "      <td>1958</td>\n",
       "      <td>潍柴国三</td>\n",
       "      <td>CANTOTSC1VR超时错误</td>\n",
       "    </tr>\n",
       "    <tr>\n",
       "      <th>166</th>\n",
       "      <td>1085</td>\n",
       "      <td>5490</td>\n",
       "      <td>3</td>\n",
       "      <td>\"这个阀检测到的电阻值超出限制范围，K2阀的电压值过高。?电缆/插接件是有缺陷的和电源电压有...</td>\n",
       "      <td>1958</td>\n",
       "      <td>变速箱</td>\n",
       "      <td>控制继电器K2对电源电压短路</td>\n",
       "    </tr>\n",
       "    <tr>\n",
       "      <th>113</th>\n",
       "      <td>1015</td>\n",
       "      <td>5080</td>\n",
       "      <td>5</td>\n",
       "      <td>\"TCU在这个输出针脚检测到一个错误的电压,像是这个针脚断路.?电缆有缺陷,到TCU没有连接...</td>\n",
       "      <td>1958</td>\n",
       "      <td>变速箱</td>\n",
       "      <td>在客户特定功能3断路.</td>\n",
       "    </tr>\n",
       "    <tr>\n",
       "      <th>0</th>\n",
       "      <td>1175</td>\n",
       "      <td>1576</td>\n",
       "      <td>5</td>\n",
       "      <td>油泵电磁阀1开路或对地短路</td>\n",
       "      <td>1958</td>\n",
       "      <td>上柴国三</td>\n",
       "      <td>油泵电磁阀1开路或对地短路</td>\n",
       "    </tr>\n",
       "    <tr>\n",
       "      <th>400</th>\n",
       "      <td>1396</td>\n",
       "      <td>1417</td>\n",
       "      <td>6</td>\n",
       "      <td>同Bank中5缸和其他缸开路或者与弱电源短路</td>\n",
       "      <td>1958</td>\n",
       "      <td>潍柴国三</td>\n",
       "      <td>同Bank中5缸和其他缸开路或者与弱电源短路</td>\n",
       "    </tr>\n",
       "  </tbody>\n",
       "</table>\n",
       "</div>"
      ],
      "text/plain": [
       "     CODE     SPN  FMI                                        DESCRIPTION  \\\n",
       "336  1332  522043   19                                    CANTOTSC1VR超时错误   \n",
       "166  1085    5490    3  \"这个阀检测到的电阻值超出限制范围，K2阀的电压值过高。?电缆/插接件是有缺陷的和电源电压有...   \n",
       "113  1015    5080    5  \"TCU在这个输出针脚检测到一个错误的电压,像是这个针脚断路.?电缆有缺陷,到TCU没有连接...   \n",
       "0    1175    1576    5                                      油泵电磁阀1开路或对地短路   \n",
       "400  1396    1417    6                             同Bank中5缸和其他缸开路或者与弱电源短路   \n",
       "\n",
       "     ENGINETYPEID FAULTSOURCE               FAULTNAME  \n",
       "336          1958        潍柴国三         CANTOTSC1VR超时错误  \n",
       "166          1958         变速箱          控制继电器K2对电源电压短路  \n",
       "113          1958         变速箱             在客户特定功能3断路.  \n",
       "0            1958        上柴国三           油泵电磁阀1开路或对地短路  \n",
       "400          1958        潍柴国三  同Bank中5缸和其他缸开路或者与弱电源短路  "
      ]
     },
     "execution_count": 8,
     "metadata": {},
     "output_type": "execute_result"
    }
   ],
   "source": [
    "codes.sample(5)"
   ]
  },
  {
   "cell_type": "markdown",
   "metadata": {},
   "source": [
    "## 数据处理"
   ]
  },
  {
   "cell_type": "code",
   "execution_count": 9,
   "metadata": {},
   "outputs": [],
   "source": [
    "# 删除指定列为空值的行\n",
    "records.dropna(subset=['SPN', 'FMI'], inplace=True)"
   ]
  },
  {
   "cell_type": "code",
   "execution_count": 10,
   "metadata": {},
   "outputs": [
    {
     "name": "stdout",
     "output_type": "stream",
     "text": [
      "删除值全为空的6列 Index(['CD_VP_UNIQUENO', 'COOLANTTEMPERATURE', 'DIRECTION', 'ELCANDVOL',\n",
      "       'ROTATIONALSPEED', 'SYSTEMDATE'],\n",
      "      dtype='object')\n"
     ]
    }
   ],
   "source": [
    "# 删除值全为空的列\n",
    "empty_columns = records.columns[records.isnull().sum() == records.shape[0]]\n",
    "\n",
    "print('删除值全为空的%i列：' % len(empty_columns), empty_columns)\n",
    "\n",
    "records.drop(empty_columns, axis=1, inplace=True)"
   ]
  },
  {
   "cell_type": "code",
   "execution_count": 11,
   "metadata": {},
   "outputs": [
    {
     "name": "stdout",
     "output_type": "stream",
     "text": [
      "删除只有同一个值的1列： Index(['UNIQUENO'], dtype='object')\n"
     ]
    }
   ],
   "source": [
    "# 删除只有同一个值的特征列\n",
    "only_one_value_columns = records.columns[records.nunique(axis=0) == 1]\n",
    "\n",
    "print('删除只有同一个值的%i列：' % len(only_one_value_columns), only_one_value_columns)\n",
    "\n",
    "records.drop(only_one_value_columns, axis=1, inplace=True)"
   ]
  },
  {
   "cell_type": "code",
   "execution_count": 12,
   "metadata": {},
   "outputs": [
    {
     "name": "stdout",
     "output_type": "stream",
     "text": [
      "<class 'pandas.core.frame.DataFrame'>\n",
      "Int64Index: 131127 entries, 0 to 131133\n",
      "Data columns (total 12 columns):\n",
      " #   Column       Non-Null Count   Dtype  \n",
      "---  ------       --------------   -----  \n",
      " 0   ACCRUNTIMES  131127 non-null  int64  \n",
      " 1   AREA         131127 non-null  int64  \n",
      " 2   CITY         131127 non-null  int64  \n",
      " 3   COLLECTTIME  131127 non-null  object \n",
      " 4   FAULTTIME    131127 non-null  object \n",
      " 5   FMI          131127 non-null  float64\n",
      " 6   FRID         131127 non-null  int64  \n",
      " 7   LATITUDE     131127 non-null  float64\n",
      " 8   LONGITUDE    131127 non-null  float64\n",
      " 9   PROVINCE     131127 non-null  int64  \n",
      " 10  READFLAG     131127 non-null  int64  \n",
      " 11  SPN          131127 non-null  float64\n",
      "dtypes: float64(4), int64(6), object(2)\n",
      "memory usage: 13.0+ MB\n"
     ]
    }
   ],
   "source": [
    "records.info()"
   ]
  }
 ],
 "metadata": {
  "kernelspec": {
   "display_name": "Python 3",
   "language": "python",
   "name": "python3"
  },
  "language_info": {
   "codemirror_mode": {
    "name": "ipython",
    "version": 3
   },
   "file_extension": ".py",
   "mimetype": "text/x-python",
   "name": "python",
   "nbconvert_exporter": "python",
   "pygments_lexer": "ipython3",
   "version": "3.8.5"
  }
 },
 "nbformat": 4,
 "nbformat_minor": 4
}
