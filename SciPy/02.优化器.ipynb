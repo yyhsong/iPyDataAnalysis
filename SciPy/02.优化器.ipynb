{
 "cells": [
  {
   "cell_type": "markdown",
   "id": "4c6909c9",
   "metadata": {},
   "source": [
    "# SciPy优化器\n",
    "\n",
    "SciPy 的 optimize 模块提供了常用的最优化算法函数实现"
   ]
  },
  {
   "cell_type": "code",
   "execution_count": 1,
   "id": "e5742760",
   "metadata": {},
   "outputs": [],
   "source": [
    "from scipy.optimize import root\n",
    "from math import cos"
   ]
  },
  {
   "cell_type": "code",
   "execution_count": 2,
   "id": "9c54001a",
   "metadata": {},
   "outputs": [
    {
     "data": {
      "text/plain": [
       " message: The solution converged.\n",
       " success: True\n",
       "  status: 1\n",
       "     fun: [ 0.000e+00]\n",
       "       x: [-7.391e-01]\n",
       "    nfev: 9\n",
       "    fjac: [[-1.000e+00]]\n",
       "       r: [-1.674e+00]\n",
       "     qtf: [-2.668e-13]"
      ]
     },
     "execution_count": 2,
     "metadata": {},
     "output_type": "execute_result"
    }
   ],
   "source": [
    "def eqn(x):\n",
    "    return x + cos(x)\n",
    "\n",
    "myroot = root(eqn, 0)\n",
    "\n",
    "myroot"
   ]
  },
  {
   "cell_type": "markdown",
   "id": "2fa28171",
   "metadata": {},
   "source": [
    "## 最小化函数\n",
    "\n",
    "- 函数表示一条曲线，曲线有高点和低点，高点称为最大值，低点称为最小值\n",
    "- 整条曲线中的最高点称为全局最大值，其余部分称为局部最大值\n",
    "- 整条曲线的最低点称为全局最小值，其余的称为局部最小值"
   ]
  },
  {
   "cell_type": "code",
   "execution_count": 3,
   "id": "555e57e5",
   "metadata": {},
   "outputs": [
    {
     "data": {
      "text/plain": [
       "  message: Optimization terminated successfully.\n",
       "  success: True\n",
       "   status: 0\n",
       "      fun: 1.75\n",
       "        x: [-5.000e-01]\n",
       "      nit: 2\n",
       "      jac: [ 0.000e+00]\n",
       " hess_inv: [[ 5.000e-01]]\n",
       "     nfev: 8\n",
       "     njev: 4"
      ]
     },
     "execution_count": 3,
     "metadata": {},
     "output_type": "execute_result"
    }
   ],
   "source": [
    "# 使用minimize()最小化函数\n",
    "from scipy.optimize import minimize\n",
    "\n",
    "def eqn(x):\n",
    "    return x**2 + x + 2\n",
    "\n",
    "mymin = minimize(eqn, 0, method='BFGS')\n",
    "\n",
    "mymin"
   ]
  }
 ],
 "metadata": {
  "kernelspec": {
   "display_name": "Python 3 (ipykernel)",
   "language": "python",
   "name": "python3"
  },
  "language_info": {
   "codemirror_mode": {
    "name": "ipython",
    "version": 3
   },
   "file_extension": ".py",
   "mimetype": "text/x-python",
   "name": "python",
   "nbconvert_exporter": "python",
   "pygments_lexer": "ipython3",
   "version": "3.11.4"
  }
 },
 "nbformat": 4,
 "nbformat_minor": 5
}
