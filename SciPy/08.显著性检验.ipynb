{
 "cells": [
  {
   "cell_type": "markdown",
   "id": "22176cd8",
   "metadata": {},
   "source": [
    "# 显著性检验\n",
    "\n",
    "显著性检验（significance test）就是事先对总体（随机变量）的参数或总体分布形式做出一个假设，然后利用样本信息来判断这个假设（备择假设）是否合理，即判断总体的真实情况与原假设是否有显著性差异。\n",
    "\n",
    "或者说，显著性检验要判断样本与我们对总体所做的假设之间的差异是纯属机会变异，还是由我们所做的假设与总体真实情况之间不一致所引起的。\n",
    "\n",
    "显著性检验是针对我们对总体所做的假设做检验，其原理就是\"小概率事件实际不可能性原理\"来接受或否定假设。\n",
    "\n",
    "显著性检验即用于实验处理组与对照组或两种不同处理的效应之间是否有差异，以及这种差异是否显著的方法。"
   ]
  },
  {
   "cell_type": "markdown",
   "id": "b9f1cb6b",
   "metadata": {},
   "source": [
    "## 统计假设\n",
    "\n",
    "统计假设是关于一个或多个随机变量的未知分布的假设。随机变量的分布形式已知，而仅涉及分布中的一个或几个未知参数的统计假设，称为参数假设。检验统计假设的过程称为假设检验，判别参数假设的检验称为参数检验。"
   ]
  },
  {
   "cell_type": "markdown",
   "id": "7999b1e4",
   "metadata": {},
   "source": [
    "## 零假设\n",
    "\n",
    "零假设（null hypothesis），统计学术语，又称原假设，指进行统计检验时预先建立的假设。 零假设成立时，有关统计量应服从已知的某种概率分布。\n",
    "\n",
    "当统计量的计算值落入否定域时，可知发生了小概率事件，应否定原假设。\n",
    "\n",
    "常把一个要检验的假设记作 H0，称为原假设（或零假设） (null hypothesis) ，与 H0 对立的假设记作 H1，称为备择假设(alternative hypothesis) 。\n",
    "\n",
    "- 在原假设为真时，决定放弃原假设，称为第一类错误，其出现的概率通常记作 α\n",
    "- 在原假设不真时，决定不放弃原假设，称为第二类错误，其出现的概率通常记作 β\n",
    "- α+β 不一定等于 1\n",
    "\n",
    "通常只限定犯第一类错误的最大概率 α， 不考虑犯第二类错误的概率 β。这样的假设 检验又称为显著性检验，概率 α 称为显著性水平。\n",
    "\n",
    "最常用的 α 值为 0.01、0.05、0.10 等。一般情况下，根据研究的问题，如果放弃真假设损失大，为减少这类错误，α 取值小些 ，反之，α 取值大些。"
   ]
  },
  {
   "cell_type": "markdown",
   "id": "9baac460",
   "metadata": {},
   "source": [
    "## 备择假设\n",
    "\n",
    "备择假设(alternative hypothesis)是统计学的基本概念之一，其包含关于总体分布的一切使原假设不成立的命题。备择假设亦称对立假设、备选假设。\n",
    "\n",
    "备择假设可以替代零假设。"
   ]
  },
  {
   "cell_type": "markdown",
   "id": "ec49aa3c",
   "metadata": {},
   "source": [
    "## 单边检验\n",
    "\n",
    "单边检验(one-sided test)亦称单尾检验，又称单侧检验，在假设检验中，用检验统计量的密度曲线和二轴所围成面积中的单侧尾部面积来构造临界区域进行检验的方法称为单边检验。\n",
    "\n",
    "当我们的假设仅测试值的一侧时，它被称为\"单尾测试\"。"
   ]
  },
  {
   "cell_type": "markdown",
   "id": "874aea99",
   "metadata": {},
   "source": [
    "## 双边检验\n",
    "\n",
    "双边检验(two-sided test)，亦称双尾检验、双侧检验在假设检验中，用检验统计量的密度曲线和x轴所围成的面积的左右两边的尾部面积来构造临界区域进行检验的方法。\n",
    "\n",
    "当我们的假设测试值的两边时。"
   ]
  },
  {
   "cell_type": "markdown",
   "id": "b3524b67",
   "metadata": {},
   "source": [
    "## 阿尔法值\n",
    "\n",
    "阿尔法值是显著性水平。\n",
    "\n",
    "显著性水平是估计总体参数落在某一区间内，可能犯错误的概率，用 α 表示。\n",
    "\n",
    "数据必须有多接近极端才能拒绝零假设。\n",
    "\n",
    "通常取为 0.01、0.05 或 0.1。"
   ]
  },
  {
   "cell_type": "markdown",
   "id": "f38ce83a",
   "metadata": {},
   "source": [
    "## P值\n",
    "\n",
    "P 值表明数据实际接近极端的程度。\n",
    "\n",
    "比较 P 值和阿尔法值(alpha)来确定统计显著性水平。\n",
    "\n",
    "如果 p 值 <= alpha，我们拒绝原假设并说数据具有统计显著性，否则我们接受原假设。"
   ]
  },
  {
   "cell_type": "markdown",
   "id": "6f5e1b36",
   "metadata": {},
   "source": [
    "## T检验 T-Test\n",
    "\n",
    "T 检验用于确定两个变量的均值之间是否存在显著差异，并判断它们是否属于同一分布。\n",
    "\n",
    "这是一个双尾测试。"
   ]
  },
  {
   "cell_type": "code",
   "execution_count": 1,
   "id": "c82f850e",
   "metadata": {},
   "outputs": [
    {
     "data": {
      "text/plain": [
       "Ttest_indResult(statistic=0.06463663695842861, pvalue=0.9485285245317623)"
      ]
     },
     "execution_count": 1,
     "metadata": {},
     "output_type": "execute_result"
    }
   ],
   "source": [
    "# 函数 ttest_ind() 获取两个相同大小的样本，并生成 t 统计和 p 值的元组\n",
    "# 查找给定值 v1 和 v2 是否来自相同的分布\n",
    "\n",
    "import numpy as np\n",
    "from scipy.stats import ttest_ind\n",
    "\n",
    "v1 = np.random.normal(size=100)\n",
    "v2 = np.random.normal(size=100)\n",
    "\n",
    "res = ttest_ind(v1, v2)\n",
    "\n",
    "res"
   ]
  },
  {
   "cell_type": "markdown",
   "id": "58ab6989",
   "metadata": {},
   "source": [
    "## KS 检验\n",
    "\n",
    "KS 检验用于检查给定值是否符合分布。\n",
    "\n",
    "该函数接收两个参数：测试的值和 CDF。\n",
    "\n",
    "CDF 为累积分布函数(Cumulative Distribution Function)，又叫分布函数。\n",
    "\n",
    "CDF 可以是字符串，也可以是返回概率的可调用函数。\n",
    "\n",
    "它可以用作单尾或双尾测试。\n",
    "\n",
    "默认情况下它是双尾测试。 我们可以将参数替代作为两侧、小于或大于其中之一的字符串传递。"
   ]
  },
  {
   "cell_type": "code",
   "execution_count": 3,
   "id": "8412640e",
   "metadata": {},
   "outputs": [
    {
     "data": {
      "text/plain": [
       "KstestResult(statistic=0.11758163670221977, pvalue=0.11612106861592653, statistic_location=0.15710350740028875, statistic_sign=1)"
      ]
     },
     "execution_count": 3,
     "metadata": {},
     "output_type": "execute_result"
    }
   ],
   "source": [
    "# 查找给定值是否符合正态分布\n",
    "import numpy as np\n",
    "from scipy.stats import kstest\n",
    "\n",
    "v = np.random.normal(size=100)\n",
    "\n",
    "res = kstest(v, 'norm')\n",
    "\n",
    "res"
   ]
  },
  {
   "cell_type": "markdown",
   "id": "f39953b7",
   "metadata": {},
   "source": [
    "## 数据统计说明\n",
    "\n",
    "使用 describe() 函数可以查看数组的信息，包含以下值：\n",
    "\n",
    "1. nobs -- 观测次数\n",
    "2. minmax -- 最小值和最大值\n",
    "3. mean -- 数学平均数\n",
    "4. variance -- 方差\n",
    "5. skewness -- 偏度\n",
    "6. kurtosis -- 峰度"
   ]
  },
  {
   "cell_type": "code",
   "execution_count": 4,
   "id": "7282ed5f",
   "metadata": {},
   "outputs": [
    {
     "data": {
      "text/plain": [
       "DescribeResult(nobs=100, minmax=(-2.5130711165437116, 2.368825230029516), mean=0.06835153198853544, variance=1.0239709942350241, skewness=-0.002442657436768697, kurtosis=-0.32127461118931055)"
      ]
     },
     "execution_count": 4,
     "metadata": {},
     "output_type": "execute_result"
    }
   ],
   "source": [
    "import numpy as np\n",
    "from scipy.stats import describe\n",
    "\n",
    "v = np.random.normal(size=100)\n",
    "res = describe(v)\n",
    "\n",
    "res"
   ]
  },
  {
   "cell_type": "markdown",
   "id": "5a497698",
   "metadata": {},
   "source": [
    "## 正态性检验（偏度和峰度）\n",
    "\n",
    "利用观测数据判断总体是否服从正态分布的检验称为正态性检验，它是统计判决中重要的一种特殊的拟合优度假设检验。\n",
    "\n",
    "正态性检验基于偏度和峰度\n",
    "\n",
    "**偏度**\n",
    "- 数据对称性的度量\n",
    "- 对于正态分布，它是 0\n",
    "- 如果为负，则表示数据向左倾斜\n",
    "- 如果是正数，则意味着数据是正确倾斜的\n",
    "\n",
    "**峰度**\n",
    "- 衡量数据是重尾还是轻尾正态分布的度量\n",
    "- 正峰度意味着重尾\n",
    "- 负峰度意味着轻尾\n",
    "- 查找数组中值的偏度和峰度"
   ]
  },
  {
   "cell_type": "code",
   "execution_count": 5,
   "id": "632fb9f1",
   "metadata": {},
   "outputs": [
    {
     "name": "stdout",
     "output_type": "stream",
     "text": [
      "0.18854049778084467\n",
      "0.09153208053469797\n"
     ]
    }
   ],
   "source": [
    "# 查找数组中的偏度和峰度\n",
    "import numpy as np\n",
    "from scipy.stats import skew, kurtosis\n",
    "\n",
    "v = np.random.normal(size=100)\n",
    "\n",
    "print(skew(v))\n",
    "print(kurtosis(v))"
   ]
  },
  {
   "cell_type": "code",
   "execution_count": 6,
   "id": "dffa89d6",
   "metadata": {},
   "outputs": [
    {
     "name": "stdout",
     "output_type": "stream",
     "text": [
      "NormaltestResult(statistic=0.6997792791665316, pvalue=0.704765863681467)\n"
     ]
    }
   ],
   "source": [
    "# 查找数据是否来自正态分布\n",
    "import numpy as np\n",
    "from scipy.stats import normaltest\n",
    "\n",
    "v = np.random.normal(size=100)\n",
    "\n",
    "print(normaltest(v))"
   ]
  }
 ],
 "metadata": {
  "kernelspec": {
   "display_name": "Python 3 (ipykernel)",
   "language": "python",
   "name": "python3"
  },
  "language_info": {
   "codemirror_mode": {
    "name": "ipython",
    "version": 3
   },
   "file_extension": ".py",
   "mimetype": "text/x-python",
   "name": "python",
   "nbconvert_exporter": "python",
   "pygments_lexer": "ipython3",
   "version": "3.11.4"
  }
 },
 "nbformat": 4,
 "nbformat_minor": 5
}
