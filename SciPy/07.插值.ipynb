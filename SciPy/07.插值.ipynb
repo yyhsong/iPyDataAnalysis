{
 "cells": [
  {
   "cell_type": "markdown",
   "id": "37fe4697",
   "metadata": {},
   "source": [
    "# 插值\n",
    "\n",
    "在数学的数值分析领域中，插值（interpolation）是一种通过已知的、离散的数据点，在范围内推求新数据点的过程或方法，简单来说插值是一种在给定的点之间生成点的方法\n",
    "\n",
    "插值有很多用途，在机器学习中我们经常处理数据缺失的数据，插值通常可用于替换这些值，这种填充值的方法称为插补\n",
    "\n",
    "除了插补，插值经常用于我们需要平滑数据集中离散点的地方"
   ]
  },
  {
   "cell_type": "markdown",
   "id": "1916a6d8",
   "metadata": {},
   "source": [
    "## 一维插值\n",
    "\n",
    "一维数据的插值运算可以通过方法 interp1d() 完成，该方法接收两个参数 x 点和 y 点，返回值是可调用函数，该函数可以用新的 x 调用并返回相应的 y，y = f(x)。"
   ]
  },
  {
   "cell_type": "code",
   "execution_count": 2,
   "id": "1838d9e6",
   "metadata": {},
   "outputs": [
    {
     "data": {
      "text/plain": [
       "array([5.2, 5.4, 5.6, 5.8, 6. , 6.2, 6.4, 6.6, 6.8])"
      ]
     },
     "execution_count": 2,
     "metadata": {},
     "output_type": "execute_result"
    }
   ],
   "source": [
    "# 对给定的 xs 和 ys 插值，从 2.1、2.2... 到 2.9\n",
    "\n",
    "from scipy.interpolate import interp1d\n",
    "import numpy as np\n",
    "\n",
    "xs = np.arange(10)\n",
    "ys = 2*xs + 1\n",
    "\n",
    "interp_func = interp1d(xs, ys)\n",
    "\n",
    "newarr = interp_func(np.arange(2.1, 3, 0.1))\n",
    "\n",
    "newarr"
   ]
  },
  {
   "cell_type": "markdown",
   "id": "79d21aec",
   "metadata": {},
   "source": [
    "## 单变量插值\n",
    "\n",
    "在一维插值中，点是针对单个曲线拟合的，而在样条插值中，点是针对使用多项式分段定义的函数拟合的。\n",
    "\n",
    "单变量插值使用 UnivariateSpline() 函数，该函数接受 xs 和 ys 并生成一个可调用函数，该函数可以用新的 xs 调用。\n",
    "\n",
    "分段函数，就是对于自变量 x 的不同的取值范围，有着不同的解析式的函数。"
   ]
  },
  {
   "cell_type": "code",
   "execution_count": 3,
   "id": "00b14b9a",
   "metadata": {
    "scrolled": true
   },
   "outputs": [
    {
     "data": {
      "text/plain": [
       "array([5.62826474, 6.03987348, 6.47131994, 6.92265019, 7.3939103 ,\n",
       "       7.88514634, 8.39640439, 8.92773053, 9.47917082])"
      ]
     },
     "execution_count": 3,
     "metadata": {},
     "output_type": "execute_result"
    }
   ],
   "source": [
    "# 为非线性点找到 2.1、2.2...2.9 的单变量样条插值\n",
    "\n",
    "from scipy.interpolate import UnivariateSpline\n",
    "import numpy as np\n",
    "\n",
    "xs = np.arange(10)\n",
    "ys = xs**2 + np.sin(xs) + 1\n",
    "\n",
    "interp_func = UnivariateSpline(xs, ys)\n",
    "\n",
    "newarr = interp_func(np.arange(2.1, 3, 0.1))\n",
    "\n",
    "newarr"
   ]
  },
  {
   "cell_type": "markdown",
   "id": "4108599e",
   "metadata": {},
   "source": [
    "## 径向基函数插值\n",
    "\n",
    "径向基函数是对应于固定参考点定义的函数，曲面插值里我们一般使用径向基函数插值"
   ]
  },
  {
   "cell_type": "code",
   "execution_count": 5,
   "id": "e121c223",
   "metadata": {},
   "outputs": [
    {
     "data": {
      "text/plain": [
       "array([6.25748981, 6.62190817, 7.00310702, 7.40121814, 7.8161443 ,\n",
       "       8.24773402, 8.69590519, 9.16070828, 9.64233874])"
      ]
     },
     "execution_count": 5,
     "metadata": {},
     "output_type": "execute_result"
    }
   ],
   "source": [
    "from scipy.interpolate import Rbf\n",
    "import numpy as np\n",
    "\n",
    "xs = np.arange(10)\n",
    "ys = xs**2 + np.sin(xs) + 1\n",
    "\n",
    "interp_func = Rbf(xs, ys)\n",
    "\n",
    "newarr = interp_func(np.arange(2.1, 3, 0.1))\n",
    "\n",
    "newarr"
   ]
  }
 ],
 "metadata": {
  "kernelspec": {
   "display_name": "Python 3 (ipykernel)",
   "language": "python",
   "name": "python3"
  },
  "language_info": {
   "codemirror_mode": {
    "name": "ipython",
    "version": 3
   },
   "file_extension": ".py",
   "mimetype": "text/x-python",
   "name": "python",
   "nbconvert_exporter": "python",
   "pygments_lexer": "ipython3",
   "version": "3.11.4"
  }
 },
 "nbformat": 4,
 "nbformat_minor": 5
}
