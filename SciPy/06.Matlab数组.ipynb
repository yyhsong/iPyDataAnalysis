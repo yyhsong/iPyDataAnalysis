{
 "cells": [
  {
   "cell_type": "markdown",
   "id": "f8322484",
   "metadata": {},
   "source": [
    "# Matlab数组\n",
    "\n",
    "NumPy 提供了 Python 可读格式的数据保存方法，SciPy 提供了与 Matlab 的交互的方法，SciPy 的 scipy.io 模块提供了很多函数来处理 Matlab 的数组\n",
    "\n",
    "savemat() 方法可以导出 Matlab 格式的数据\n",
    "- filename 保存数据的文件名\n",
    "- mdict 包含数据的字典\n",
    "- do_compression 布尔值，指定结果数据是否压缩，默认False"
   ]
  },
  {
   "cell_type": "code",
   "execution_count": 1,
   "id": "a0405979",
   "metadata": {},
   "outputs": [
    {
     "data": {
      "text/plain": [
       "{'__header__': b'MATLAB 5.0 MAT-file Platform: nt, Created on: Tue Oct 24 10:55:54 2023',\n",
       " '__version__': '1.0',\n",
       " '__globals__': [],\n",
       " 'vec': array([[0, 1, 2, 3, 4, 5, 6, 7, 8, 9]])}"
      ]
     },
     "execution_count": 1,
     "metadata": {},
     "output_type": "execute_result"
    }
   ],
   "source": [
    "from scipy import io\n",
    "import numpy as np\n",
    "\n",
    "arr = np.arange(10)\n",
    "\n",
    "# 导出\n",
    "io.savemat('./data/arr.mat', {\"vec\": arr})\n",
    "\n",
    "# 导入\n",
    "mat_data = io.loadmat('./data/arr.mat')\n",
    "\n",
    "mat_data"
   ]
  },
  {
   "cell_type": "code",
   "execution_count": 3,
   "id": "2c6edee0",
   "metadata": {},
   "outputs": [
    {
     "data": {
      "text/plain": [
       "{'__header__': b'MATLAB 5.0 MAT-file Platform: nt, Created on: Tue Oct 24 10:55:54 2023',\n",
       " '__version__': '1.0',\n",
       " '__globals__': [],\n",
       " 'vec': array([0, 1, 2, 3, 4, 5, 6, 7, 8, 9])}"
      ]
     },
     "execution_count": 3,
     "metadata": {},
     "output_type": "execute_result"
    }
   ],
   "source": [
    "# 数组最初是一维的，但在提取时它增加了一个维度，变成了二维数组\n",
    "# 解决这个问题可以传递一个额外的参数 squeeze_me=True\n",
    "mat_data = io.loadmat('./data/arr.mat', squeeze_me=True)\n",
    "\n",
    "mat_data"
   ]
  }
 ],
 "metadata": {
  "kernelspec": {
   "display_name": "Python 3 (ipykernel)",
   "language": "python",
   "name": "python3"
  },
  "language_info": {
   "codemirror_mode": {
    "name": "ipython",
    "version": 3
   },
   "file_extension": ".py",
   "mimetype": "text/x-python",
   "name": "python",
   "nbconvert_exporter": "python",
   "pygments_lexer": "ipython3",
   "version": "3.11.4"
  }
 },
 "nbformat": 4,
 "nbformat_minor": 5
}
