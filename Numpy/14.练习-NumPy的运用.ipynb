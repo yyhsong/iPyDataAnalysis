{
 "cells": [
  {
   "cell_type": "code",
   "execution_count": 1,
   "metadata": {},
   "outputs": [],
   "source": [
    "import numpy as np"
   ]
  },
  {
   "cell_type": "code",
   "execution_count": 2,
   "metadata": {},
   "outputs": [
    {
     "name": "stdout",
     "output_type": "stream",
     "text": [
      "1.19.2\n"
     ]
    }
   ],
   "source": [
    "# 打印当前numpy的版本\n",
    "print(np.__version__)"
   ]
  },
  {
   "cell_type": "code",
   "execution_count": 7,
   "metadata": {},
   "outputs": [
    {
     "name": "stdout",
     "output_type": "stream",
     "text": [
      "800 bytes\n"
     ]
    }
   ],
   "source": [
    "# 构造一个全零矩阵，并打印其占用的内存大小\n",
    "a = np.zeros((10, 10))\n",
    "print('{0} bytes'.format(a.size * a.itemsize))"
   ]
  },
  {
   "cell_type": "code",
   "execution_count": 9,
   "metadata": {},
   "outputs": [
    {
     "data": {
      "text/plain": [
       "array([9, 8, 7, 6, 5, 4, 3, 2, 1, 0])"
      ]
     },
     "execution_count": 9,
     "metadata": {},
     "output_type": "execute_result"
    }
   ],
   "source": [
    "# 创建一个数组，并将其倒序\n",
    "a = np.arange(0, 10, 1)\n",
    "a = a[::-1]\n",
    "a"
   ]
  },
  {
   "cell_type": "code",
   "execution_count": 10,
   "metadata": {
    "scrolled": true
   },
   "outputs": [
    {
     "data": {
      "text/plain": [
       "(array([0, 2, 3, 6, 7], dtype=int64),)"
      ]
     },
     "execution_count": 10,
     "metadata": {},
     "output_type": "execute_result"
    }
   ],
   "source": [
    "# 获取数组中非0值的索引\n",
    "np.nonzero([1, 0, 3, 5, 0, 0, 7, 9])"
   ]
  },
  {
   "cell_type": "code",
   "execution_count": 12,
   "metadata": {},
   "outputs": [
    {
     "data": {
      "text/plain": [
       "array([[0., 0., 0., 0., 0., 0., 0.],\n",
       "       [0., 0., 0., 0., 0., 0., 0.],\n",
       "       [0., 0., 1., 1., 1., 0., 0.],\n",
       "       [0., 0., 1., 1., 1., 0., 0.],\n",
       "       [0., 0., 1., 1., 1., 0., 0.],\n",
       "       [0., 0., 0., 0., 0., 0., 0.],\n",
       "       [0., 0., 0., 0., 0., 0., 0.]])"
      ]
     },
     "execution_count": 12,
     "metadata": {},
     "output_type": "execute_result"
    }
   ],
   "source": [
    "# 构造一个3*3的矩阵，其值均为1， 并在最外层加两圈0\n",
    "a = np.ones((3,3))\n",
    "a = np.pad(a, pad_width=2, mode='constant', constant_values=0)\n",
    "a"
   ]
  },
  {
   "cell_type": "code",
   "execution_count": 19,
   "metadata": {},
   "outputs": [
    {
     "data": {
      "text/plain": [
       "array([[0.32978723, 0.21276596, 0.06382979, 0.4893617 , 0.10638298],\n",
       "       [0.64893617, 0.90425532, 0.4787234 , 0.55319149, 0.21276596],\n",
       "       [0.91489362, 0.        , 0.89361702, 0.27659574, 0.0106383 ],\n",
       "       [0.14893617, 0.36170213, 0.53191489, 0.23404255, 0.22340426],\n",
       "       [0.0106383 , 0.54255319, 0.58510638, 1.        , 0.96808511]])"
      ]
     },
     "execution_count": 19,
     "metadata": {},
     "output_type": "execute_result"
    }
   ],
   "source": [
    "# 对矩阵做归一化操作\n",
    "a = np.random.randint(0, 100, (5, 5))\n",
    "max_val = a.max()\n",
    "min_val = a.min()\n",
    "a = (a - min_val)/(max_val - min_val)\n",
    "a"
   ]
  },
  {
   "cell_type": "code",
   "execution_count": 21,
   "metadata": {},
   "outputs": [
    {
     "name": "stdout",
     "output_type": "stream",
     "text": [
      "[1 7 2 8 4]\n",
      "[4 0 1 8 5]\n",
      "[1 4 8]\n"
     ]
    }
   ],
   "source": [
    "# 找到两个数组中相同的值\n",
    "a1 = np.random.randint(0, 10, 5)\n",
    "a2 = np.random.randint(0, 10, 5)\n",
    "print(a1)\n",
    "print(a2)\n",
    "print(np.intersect1d(a1, a2))"
   ]
  },
  {
   "cell_type": "code",
   "execution_count": 22,
   "metadata": {},
   "outputs": [
    {
     "name": "stdout",
     "output_type": "stream",
     "text": [
      "today 2021-01-25\n",
      "yesterday 2021-01-24\n",
      "tomorrow 2021-01-26\n"
     ]
    }
   ],
   "source": [
    "# 获取今天、昨天、明天的日期\n",
    "today = np.datetime64('today', 'D')\n",
    "yesterday = np.datetime64('today', 'D') - np.timedelta64(1, 'D')\n",
    "tomorrow = np.datetime64('today', 'D') + np.timedelta64(1, 'D')\n",
    "\n",
    "print('today', today)\n",
    "print('yesterday', yesterday)\n",
    "print('tomorrow', tomorrow)"
   ]
  },
  {
   "cell_type": "code",
   "execution_count": 24,
   "metadata": {
    "scrolled": false
   },
   "outputs": [
    {
     "data": {
      "text/plain": [
       "array(['2021-01-01', '2021-01-02', '2021-01-03', '2021-01-04',\n",
       "       '2021-01-05', '2021-01-06', '2021-01-07', '2021-01-08',\n",
       "       '2021-01-09', '2021-01-10', '2021-01-11', '2021-01-12',\n",
       "       '2021-01-13', '2021-01-14', '2021-01-15', '2021-01-16',\n",
       "       '2021-01-17', '2021-01-18', '2021-01-19', '2021-01-20',\n",
       "       '2021-01-21', '2021-01-22', '2021-01-23', '2021-01-24',\n",
       "       '2021-01-25', '2021-01-26', '2021-01-27', '2021-01-28',\n",
       "       '2021-01-29', '2021-01-30', '2021-01-31'], dtype='datetime64[D]')"
      ]
     },
     "execution_count": 24,
     "metadata": {},
     "output_type": "execute_result"
    }
   ],
   "source": [
    "# 获取一个月中的所有天\n",
    "np.arange('2021-01', '2021-02', dtype='datetime64[D]')"
   ]
  },
  {
   "cell_type": "code",
   "execution_count": 25,
   "metadata": {},
   "outputs": [],
   "source": [
    "# 让数组的值不能被改变\n",
    "a = np.zeros(5)\n",
    "a.flags.writeable = False"
   ]
  },
  {
   "cell_type": "code",
   "execution_count": 33,
   "metadata": {},
   "outputs": [
    {
     "name": "stdout",
     "output_type": "stream",
     "text": [
      "37.313584448567525\n",
      "37\n"
     ]
    }
   ],
   "source": [
    "# 找到在一个数组中，最接近一个数的值\n",
    "a1 = np.arange(100)\n",
    "a2 = np.random.uniform(0, 100)\n",
    "print(a2)\n",
    "i = (np.abs(a1-a2)).argmin()\n",
    "print(a1[i])"
   ]
  },
  {
   "cell_type": "code",
   "execution_count": 34,
   "metadata": {
    "scrolled": true
   },
   "outputs": [
    {
     "name": "stdout",
     "output_type": "stream",
     "text": [
      "(0, 0) 0\n",
      "(0, 1) 1\n",
      "(0, 2) 2\n",
      "(1, 0) 3\n",
      "(1, 1) 4\n",
      "(1, 2) 5\n",
      "(2, 0) 6\n",
      "(2, 1) 7\n",
      "(2, 2) 8\n"
     ]
    }
   ],
   "source": [
    "# 打印数组元素的坐标和值\n",
    "a = np.arange(9).reshape(3, 3)\n",
    "for i, v in np.ndenumerate(a):\n",
    "    print(i, v)"
   ]
  },
  {
   "cell_type": "code",
   "execution_count": 41,
   "metadata": {
    "scrolled": true
   },
   "outputs": [
    {
     "name": "stdout",
     "output_type": "stream",
     "text": [
      "[[1 8 1]\n",
      " [5 9 1]\n",
      " [4 3 7]]\n",
      "[[1 8 1]\n",
      " [4 3 7]\n",
      " [5 9 1]]\n"
     ]
    }
   ],
   "source": [
    "# 按照数组的某一列进行排序\n",
    "a = np.random.randint(0, 10, (3, 3))\n",
    "print(a)\n",
    "print(a[a[:, 0].argsort()])  # 按照第1列的值从小到大排列"
   ]
  },
  {
   "cell_type": "code",
   "execution_count": 42,
   "metadata": {},
   "outputs": [
    {
     "data": {
      "text/plain": [
       "array([0, 3, 2, 2, 1, 2], dtype=int64)"
      ]
     },
     "execution_count": 42,
     "metadata": {},
     "output_type": "execute_result"
    }
   ],
   "source": [
    "# 统计数组中每个数值出现的次数\n",
    "a = np.array([1, 2, 3, 1, 1, 2, 4, 5, 3, 5])\n",
    "np.bincount(a)"
   ]
  },
  {
   "cell_type": "code",
   "execution_count": 44,
   "metadata": {},
   "outputs": [
    {
     "data": {
      "text/plain": [
       "array([[65, 75, 73, 65],\n",
       "       [78, 59, 77, 76],\n",
       "       [67, 62, 83, 61],\n",
       "       [81, 68, 80, 72]])"
      ]
     },
     "execution_count": 44,
     "metadata": {},
     "output_type": "execute_result"
    }
   ],
   "source": [
    "# 对一个四维数组的最后两维求和\n",
    "a = np.random.randint(0, 10, (4, 4, 4 ,4))\n",
    "a.sum(axis=(-2, -1))"
   ]
  },
  {
   "cell_type": "code",
   "execution_count": 46,
   "metadata": {},
   "outputs": [
    {
     "name": "stdout",
     "output_type": "stream",
     "text": [
      "3\n"
     ]
    }
   ],
   "source": [
    "# 查找数组中出现次数最多的值\n",
    "a = np.random.randint(0, 10, 50)\n",
    "print(np.bincount(a).argmax())"
   ]
  },
  {
   "cell_type": "code",
   "execution_count": 50,
   "metadata": {},
   "outputs": [
    {
     "name": "stdout",
     "output_type": "stream",
     "text": [
      "[9997 9999 9998 9996 9995]\n"
     ]
    }
   ],
   "source": [
    "# 快速查找topN\n",
    "a = np.arange(10000)\n",
    "np.random.shuffle(a)\n",
    "n = 5\n",
    "print(a[np.argpartition(-a, n)[:n]])"
   ]
  },
  {
   "cell_type": "code",
   "execution_count": 8,
   "metadata": {},
   "outputs": [
    {
     "name": "stdout",
     "output_type": "stream",
     "text": [
      " sum(*args, **kwargs)\n",
      "\n",
      "Sum of array elements over a given axis.\n",
      "\n",
      "Parameters\n",
      "----------\n",
      "a : array_like\n",
      "    Elements to sum.\n",
      "axis : None or int or tuple of ints, optional\n",
      "    Axis or axes along which a sum is performed.  The default,\n",
      "    axis=None, will sum all of the elements of the input array.  If\n",
      "    axis is negative it counts from the last to the first axis.\n",
      "\n",
      "    .. versionadded:: 1.7.0\n",
      "\n",
      "    If axis is a tuple of ints, a sum is performed on all of the axes\n",
      "    specified in the tuple instead of a single axis or all the axes as\n",
      "    before.\n",
      "dtype : dtype, optional\n",
      "    The type of the returned array and of the accumulator in which the\n",
      "    elements are summed.  The dtype of `a` is used by default unless `a`\n",
      "    has an integer dtype of less precision than the default platform\n",
      "    integer.  In that case, if `a` is signed then the platform integer\n",
      "    is used while if `a` is unsigned then an unsigned integer of the\n",
      "    same precision as the platform integer is used.\n",
      "out : ndarray, optional\n",
      "    Alternative output array in which to place the result. It must have\n",
      "    the same shape as the expected output, but the type of the output\n",
      "    values will be cast if necessary.\n",
      "keepdims : bool, optional\n",
      "    If this is set to True, the axes which are reduced are left\n",
      "    in the result as dimensions with size one. With this option,\n",
      "    the result will broadcast correctly against the input array.\n",
      "\n",
      "    If the default value is passed, then `keepdims` will not be\n",
      "    passed through to the `sum` method of sub-classes of\n",
      "    `ndarray`, however any non-default value will be.  If the\n",
      "    sub-class' method does not implement `keepdims` any\n",
      "    exceptions will be raised.\n",
      "initial : scalar, optional\n",
      "    Starting value for the sum. See `~numpy.ufunc.reduce` for details.\n",
      "\n",
      "    .. versionadded:: 1.15.0\n",
      "\n",
      "where : array_like of bool, optional\n",
      "    Elements to include in the sum. See `~numpy.ufunc.reduce` for details.\n",
      "\n",
      "    .. versionadded:: 1.17.0\n",
      "\n",
      "Returns\n",
      "-------\n",
      "sum_along_axis : ndarray\n",
      "    An array with the same shape as `a`, with the specified\n",
      "    axis removed.   If `a` is a 0-d array, or if `axis` is None, a scalar\n",
      "    is returned.  If an output array is specified, a reference to\n",
      "    `out` is returned.\n",
      "\n",
      "See Also\n",
      "--------\n",
      "ndarray.sum : Equivalent method.\n",
      "\n",
      "add.reduce : Equivalent functionality of `add`.\n",
      "\n",
      "cumsum : Cumulative sum of array elements.\n",
      "\n",
      "trapz : Integration of array values using the composite trapezoidal rule.\n",
      "\n",
      "mean, average\n",
      "\n",
      "Notes\n",
      "-----\n",
      "Arithmetic is modular when using integer types, and no error is\n",
      "raised on overflow.\n",
      "\n",
      "The sum of an empty array is the neutral element 0:\n",
      "\n",
      ">>> np.sum([])\n",
      "0.0\n",
      "\n",
      "For floating point numbers the numerical precision of sum (and\n",
      "``np.add.reduce``) is in general limited by directly adding each number\n",
      "individually to the result causing rounding errors in every step.\n",
      "However, often numpy will use a  numerically better approach (partial\n",
      "pairwise summation) leading to improved precision in many use-cases.\n",
      "This improved precision is always provided when no ``axis`` is given.\n",
      "When ``axis`` is given, it will depend on which axis is summed.\n",
      "Technically, to provide the best speed possible, the improved precision\n",
      "is only used when the summation is along the fast axis in memory.\n",
      "Note that the exact precision may vary depending on other parameters.\n",
      "In contrast to NumPy, Python's ``math.fsum`` function uses a slower but\n",
      "more precise approach to summation.\n",
      "Especially when summing a large number of lower precision floating point\n",
      "numbers, such as ``float32``, numerical errors can become significant.\n",
      "In such cases it can be advisable to use `dtype=\"float64\"` to use a higher\n",
      "precision for the output.\n",
      "\n",
      "Examples\n",
      "--------\n",
      ">>> np.sum([0.5, 1.5])\n",
      "2.0\n",
      ">>> np.sum([0.5, 0.7, 0.2, 1.5], dtype=np.int32)\n",
      "1\n",
      ">>> np.sum([[0, 1], [0, 5]])\n",
      "6\n",
      ">>> np.sum([[0, 1], [0, 5]], axis=0)\n",
      "array([0, 6])\n",
      ">>> np.sum([[0, 1], [0, 5]], axis=1)\n",
      "array([1, 5])\n",
      ">>> np.sum([[0, 1], [np.nan, 5]], where=[False, True], axis=1)\n",
      "array([1., 5.])\n",
      "\n",
      "If the accumulator is too small, overflow occurs:\n",
      "\n",
      ">>> np.ones(128, dtype=np.int8).sum(dtype=np.int8)\n",
      "-128\n",
      "\n",
      "You can also start the sum with a value other than zero:\n",
      "\n",
      ">>> np.sum([10], initial=5)\n",
      "15\n",
      "Help on NoneType object:\n",
      "\n",
      "class NoneType(object)\n",
      " |  Methods defined here:\n",
      " |  \n",
      " |  __bool__(self, /)\n",
      " |      self != 0\n",
      " |  \n",
      " |  __repr__(self, /)\n",
      " |      Return repr(self).\n",
      " |  \n",
      " |  ----------------------------------------------------------------------\n",
      " |  Static methods defined here:\n",
      " |  \n",
      " |  __new__(*args, **kwargs) from builtins.type\n",
      " |      Create and return a new object.  See help(type) for accurate signature.\n",
      "\n",
      "None\n"
     ]
    }
   ],
   "source": [
    "# 打印一个函数的帮助文档\n",
    "print(help(np.info(np.sum)))"
   ]
  }
 ],
 "metadata": {
  "kernelspec": {
   "display_name": "Python 3 (ipykernel)",
   "language": "python",
   "name": "python3"
  },
  "language_info": {
   "codemirror_mode": {
    "name": "ipython",
    "version": 3
   },
   "file_extension": ".py",
   "mimetype": "text/x-python",
   "name": "python",
   "nbconvert_exporter": "python",
   "pygments_lexer": "ipython3",
   "version": "3.11.4"
  }
 },
 "nbformat": 4,
 "nbformat_minor": 4
}
