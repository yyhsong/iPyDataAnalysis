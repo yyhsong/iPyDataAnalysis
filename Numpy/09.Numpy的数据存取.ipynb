{
 "cells": [
  {
   "cell_type": "markdown",
   "metadata": {},
   "source": [
    "# NumPy的I/O\n",
    "\n",
    "Numpy 可以读写磁盘上的文本数据或二进制数据"
   ]
  },
  {
   "cell_type": "code",
   "execution_count": 1,
   "metadata": {},
   "outputs": [],
   "source": [
    "import numpy as np"
   ]
  },
  {
   "cell_type": "markdown",
   "metadata": {},
   "source": [
    "# CSV\n",
    "\n",
    "- Comma-Separated Value, 逗号分隔值\n",
    "- CSV是一种常见的文件格式，用来存储批量数据"
   ]
  },
  {
   "cell_type": "markdown",
   "metadata": {},
   "source": [
    "# 使用CSV进行一维和二维数据的存取\n",
    "\n",
    "`np.savetxt(frame, array, fmt='%.18e', delimiter=None)`\n",
    "- frame 文件、字符串或产生器，可以是.gz或.bz2的压缩文件\n",
    "- array 存入文件的数组\n",
    "- fmt 写入文件的格式，如%d, %.2f, %.18e\n",
    "- delimiter 分隔字符串，默认是任何空格\n",
    "\n",
    "`np.loadtxt(frame, dtype=np.float, delimiter=None, unpack=False)`\n",
    "- frame 文件、字符串或产生器，可以是.gz或.bz2的压缩文件\n",
    "- dtype 数据类型，可选\n",
    "- delimiter 分隔字符串，默认是任何空格\n",
    "- unpack 如果True, 读入属性将分别写入不同变量"
   ]
  },
  {
   "cell_type": "code",
   "execution_count": 7,
   "metadata": {},
   "outputs": [
    {
     "data": {
      "text/plain": [
       "array([[ 0,  1,  2,  3,  4,  5,  6,  7,  8,  9, 10, 11, 12, 13, 14, 15,\n",
       "        16, 17, 18, 19],\n",
       "       [20, 21, 22, 23, 24, 25, 26, 27, 28, 29, 30, 31, 32, 33, 34, 35,\n",
       "        36, 37, 38, 39],\n",
       "       [40, 41, 42, 43, 44, 45, 46, 47, 48, 49, 50, 51, 52, 53, 54, 55,\n",
       "        56, 57, 58, 59],\n",
       "       [60, 61, 62, 63, 64, 65, 66, 67, 68, 69, 70, 71, 72, 73, 74, 75,\n",
       "        76, 77, 78, 79],\n",
       "       [80, 81, 82, 83, 84, 85, 86, 87, 88, 89, 90, 91, 92, 93, 94, 95,\n",
       "        96, 97, 98, 99]])"
      ]
     },
     "execution_count": 7,
     "metadata": {},
     "output_type": "execute_result"
    }
   ],
   "source": [
    "n = np.arange(100).reshape((5, 20))\n",
    "\n",
    "# 把数组存入csv文件\n",
    "np.savetxt('nums.csv', n, fmt='%.1f', delimiter=',')\n",
    "\n",
    "# 从csv文件读取数组\n",
    "np.loadtxt('nums.csv', dtype=np.int, delimiter=',')"
   ]
  },
  {
   "cell_type": "markdown",
   "metadata": {},
   "source": [
    "# 多维数据的存取\n",
    "\n",
    "`n.tofile(frame, sep='', format='%s')`\n",
    "- frame 文件、字符串\n",
    "- sep 数据分隔字符串，如果是空串，写入文件为二进制\n",
    "- format 写入数据的格式\n",
    "\n",
    "`np.fromfile(frame, dtype=float, count=-1, sep='')`\n",
    "- frame 文件、字符串\n",
    "- dtype 读取的数据类型\n",
    "- count 读入元素的个数，-1表示读入整个文件\n",
    "- sep 数据分隔字符串，如果是空串，写入文件为二进制"
   ]
  },
  {
   "cell_type": "code",
   "execution_count": 12,
   "metadata": {},
   "outputs": [
    {
     "data": {
      "text/plain": [
       "array([[[ 0.,  1.],\n",
       "        [ 2.,  3.],\n",
       "        [ 4.,  5.],\n",
       "        [ 6.,  7.],\n",
       "        [ 8.,  9.],\n",
       "        [10., 11.],\n",
       "        [12., 13.],\n",
       "        [14., 15.],\n",
       "        [16., 17.],\n",
       "        [18., 19.]],\n",
       "\n",
       "       [[20., 21.],\n",
       "        [22., 23.],\n",
       "        [24., 25.],\n",
       "        [26., 27.],\n",
       "        [28., 29.],\n",
       "        [30., 31.],\n",
       "        [32., 33.],\n",
       "        [34., 35.],\n",
       "        [36., 37.],\n",
       "        [38., 39.]],\n",
       "\n",
       "       [[40., 41.],\n",
       "        [42., 43.],\n",
       "        [44., 45.],\n",
       "        [46., 47.],\n",
       "        [48., 49.],\n",
       "        [50., 51.],\n",
       "        [52., 53.],\n",
       "        [54., 55.],\n",
       "        [56., 57.],\n",
       "        [58., 59.]],\n",
       "\n",
       "       [[60., 61.],\n",
       "        [62., 63.],\n",
       "        [64., 65.],\n",
       "        [66., 67.],\n",
       "        [68., 69.],\n",
       "        [70., 71.],\n",
       "        [72., 73.],\n",
       "        [74., 75.],\n",
       "        [76., 77.],\n",
       "        [78., 79.]],\n",
       "\n",
       "       [[80., 81.],\n",
       "        [82., 83.],\n",
       "        [84., 85.],\n",
       "        [86., 87.],\n",
       "        [88., 89.],\n",
       "        [90., 91.],\n",
       "        [92., 93.],\n",
       "        [94., 95.],\n",
       "        [96., 97.],\n",
       "        [98., 99.]]])"
      ]
     },
     "execution_count": 12,
     "metadata": {},
     "output_type": "execute_result"
    }
   ],
   "source": [
    "n = np.arange(100).reshape((5, 10, 2))\n",
    "\n",
    "# 把多维数组存入数据文件\n",
    "n.tofile('nums.dat', sep=',', format='%d')\n",
    "\n",
    "# 从数据文件中读取多维数组\n",
    "np.fromfile('nums.dat', dtype=np.float, sep=',').reshape((5, 10, 2))"
   ]
  },
  {
   "cell_type": "markdown",
   "metadata": {},
   "source": [
    "# NumPy的便捷文件存取\n",
    "\n",
    "`np.save(fname, array) 或 np.savez(fname, array)`\n",
    "- fname 文件名，以.npy为扩展名，压缩扩展名为.npz\n",
    "- array 数组变量\n",
    "\n",
    "`np.load(fname)`\n",
    "- fname 文件名，以.npy为扩展名，压缩扩展名为.npz"
   ]
  },
  {
   "cell_type": "code",
   "execution_count": 13,
   "metadata": {},
   "outputs": [
    {
     "data": {
      "text/plain": [
       "array([[[ 0,  1],\n",
       "        [ 2,  3],\n",
       "        [ 4,  5],\n",
       "        [ 6,  7],\n",
       "        [ 8,  9],\n",
       "        [10, 11],\n",
       "        [12, 13],\n",
       "        [14, 15],\n",
       "        [16, 17],\n",
       "        [18, 19]],\n",
       "\n",
       "       [[20, 21],\n",
       "        [22, 23],\n",
       "        [24, 25],\n",
       "        [26, 27],\n",
       "        [28, 29],\n",
       "        [30, 31],\n",
       "        [32, 33],\n",
       "        [34, 35],\n",
       "        [36, 37],\n",
       "        [38, 39]],\n",
       "\n",
       "       [[40, 41],\n",
       "        [42, 43],\n",
       "        [44, 45],\n",
       "        [46, 47],\n",
       "        [48, 49],\n",
       "        [50, 51],\n",
       "        [52, 53],\n",
       "        [54, 55],\n",
       "        [56, 57],\n",
       "        [58, 59]],\n",
       "\n",
       "       [[60, 61],\n",
       "        [62, 63],\n",
       "        [64, 65],\n",
       "        [66, 67],\n",
       "        [68, 69],\n",
       "        [70, 71],\n",
       "        [72, 73],\n",
       "        [74, 75],\n",
       "        [76, 77],\n",
       "        [78, 79]],\n",
       "\n",
       "       [[80, 81],\n",
       "        [82, 83],\n",
       "        [84, 85],\n",
       "        [86, 87],\n",
       "        [88, 89],\n",
       "        [90, 91],\n",
       "        [92, 93],\n",
       "        [94, 95],\n",
       "        [96, 97],\n",
       "        [98, 99]]])"
      ]
     },
     "execution_count": 13,
     "metadata": {},
     "output_type": "execute_result"
    }
   ],
   "source": [
    "n = np.arange(100).reshape((5, 10, 2))\n",
    "\n",
    "np.save('nums.npy', n)\n",
    "\n",
    "np.load('nums.npy')"
   ]
  }
 ],
 "metadata": {
  "kernelspec": {
   "display_name": "Python 3 (ipykernel)",
   "language": "python",
   "name": "python3"
  },
  "language_info": {
   "codemirror_mode": {
    "name": "ipython",
    "version": 3
   },
   "file_extension": ".py",
   "mimetype": "text/x-python",
   "name": "python",
   "nbconvert_exporter": "python",
   "pygments_lexer": "ipython3",
   "version": "3.11.4"
  }
 },
 "nbformat": 4,
 "nbformat_minor": 4
}
