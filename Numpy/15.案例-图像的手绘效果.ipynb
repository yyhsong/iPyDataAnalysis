{
 "cells": [
  {
   "cell_type": "code",
   "execution_count": 2,
   "metadata": {
    "scrolled": true
   },
   "outputs": [],
   "source": [
    "import numpy as np\n",
    "\n",
    "# PIL Python Image Library\n",
    "from PIL import Image"
   ]
  },
  {
   "cell_type": "code",
   "execution_count": 5,
   "metadata": {},
   "outputs": [
    {
     "name": "stdout",
     "output_type": "stream",
     "text": [
      "(325, 325, 3) uint8\n"
     ]
    },
    {
     "data": {
      "text/plain": [
       "array([[[152, 120, 185],\n",
       "        [149, 117, 182],\n",
       "        [146, 114, 181],\n",
       "        ...,\n",
       "        [223, 236, 226],\n",
       "        [223, 239, 228],\n",
       "        [212, 230, 218]],\n",
       "\n",
       "       [[169, 137, 204],\n",
       "        [167, 135, 202],\n",
       "        [165, 133, 200],\n",
       "        ...,\n",
       "        [231, 245, 232],\n",
       "        [232, 248, 235],\n",
       "        [226, 244, 230]],\n",
       "\n",
       "       [[145, 114, 184],\n",
       "        [147, 116, 186],\n",
       "        [148, 117, 187],\n",
       "        ...,\n",
       "        [213, 227, 212],\n",
       "        [214, 231, 215],\n",
       "        [216, 234, 218]],\n",
       "\n",
       "       ...,\n",
       "\n",
       "       [[191, 160,  93],\n",
       "        [192, 161,  94],\n",
       "        [187, 156,  89],\n",
       "        ...,\n",
       "        [173, 168, 200],\n",
       "        [168, 165, 194],\n",
       "        [159, 159, 185]],\n",
       "\n",
       "       [[194, 163,  96],\n",
       "        [194, 163,  96],\n",
       "        [189, 158,  91],\n",
       "        ...,\n",
       "        [174, 169, 201],\n",
       "        [176, 173, 202],\n",
       "        [172, 172, 198]],\n",
       "\n",
       "       [[198, 167, 100],\n",
       "        [199, 168, 101],\n",
       "        [195, 164,  97],\n",
       "        ...,\n",
       "        [177, 172, 204],\n",
       "        [185, 182, 211],\n",
       "        [184, 184, 210]]], dtype=uint8)"
      ]
     },
     "execution_count": 5,
     "metadata": {},
     "output_type": "execute_result"
    }
   ],
   "source": [
    "# 图像可以使用三维数组表示\n",
    "# 第1、2维分别为图像的宽、高度像素值\n",
    "# 第3维为每一个像素的RGB值\n",
    "a = np.array(Image.open('./files/avatar.jpg'))\n",
    "\n",
    "print(a.shape, a.dtype)\n",
    "\n",
    "a"
   ]
  },
  {
   "cell_type": "code",
   "execution_count": 6,
   "metadata": {},
   "outputs": [],
   "source": [
    "# 反色图片\n",
    "b = [255, 255, 255] - a\n",
    "\n",
    "img2 = Image.fromarray(b.astype('uint8'))\n",
    "img2.save('./files/avatar2.jpg')"
   ]
  },
  {
   "cell_type": "code",
   "execution_count": 8,
   "metadata": {},
   "outputs": [],
   "source": [
    "# 灰度图片\n",
    "a = np.array(Image.open('./files/avatar.jpg').convert('L'))  # 二维数组\n",
    "b = 255 - a\n",
    "\n",
    "img = Image.fromarray(b.astype('uint8'))\n",
    "img.save('./files/avatar3.jpg')"
   ]
  },
  {
   "cell_type": "markdown",
   "metadata": {},
   "source": [
    "# 图像的手绘效果\n",
    "\n",
    "- 利用像素之间的梯度值和虚拟深度值对图像进行重构\n",
    "- 根据灰度变化来模拟人类视觉的明暗程度"
   ]
  },
  {
   "cell_type": "code",
   "execution_count": 11,
   "metadata": {},
   "outputs": [],
   "source": [
    "a = np.array(Image.open('./files/avatar.jpg').convert('L')).astype('float')\n",
    "\n",
    "depth = 10  # 预设深度值为10，取值范围0-100\n",
    "grad = np.gradient(a)  # 提取图像的梯度值\n",
    "grad_x, grad_y = grad\n",
    "grad_x = grad_x * depth / 100  # 根据深度调整x和y方向的梯度值\n",
    "grad_y = grad_y * depth / 100\n",
    "\n",
    "A = np.sqrt(grad_x**2 + grad_y**2 + 1)\n",
    "uni_x = grad_x / A\n",
    "uni_y = grad_y / A\n",
    "uni_z = 1 / A\n",
    "\n",
    "vec_el = np.pi / 2.2  # 光源的俯视角度，弧度值\n",
    "vec_az = np.pi / 4  # 光源的方位角度，弧度值\n",
    "dx = np.cos(vec_el) * np.cos(vec_az)  # 对光源x轴的影响\n",
    "dy = np.cos(vec_el) * np.sin(vec_az)  # 对光源y轴的影响\n",
    "dz = np.sin(vec_el)  # 对光源z轴的影响\n",
    "\n",
    "b = 255 * (dx * uni_x + dy * uni_y + dz * uni_z)  # 光源归一化\n",
    "b = b.clip(0, 255)\n",
    "\n",
    "img = Image.fromarray(b.astype('uint8'))  # 重构图像\n",
    "img.save('./files/avatar4.jpg')"
   ]
  }
 ],
 "metadata": {
  "kernelspec": {
   "display_name": "Python 3 (ipykernel)",
   "language": "python",
   "name": "python3"
  },
  "language_info": {
   "codemirror_mode": {
    "name": "ipython",
    "version": 3
   },
   "file_extension": ".py",
   "mimetype": "text/x-python",
   "name": "python",
   "nbconvert_exporter": "python",
   "pygments_lexer": "ipython3",
   "version": "3.11.4"
  }
 },
 "nbformat": 4,
 "nbformat_minor": 4
}
