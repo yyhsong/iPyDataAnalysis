{
 "cells": [
  {
   "cell_type": "markdown",
   "id": "dc8177dc",
   "metadata": {},
   "source": [
    "# 迭代数组\n",
    "\n",
    "- 迭代器对象numpy.nditer提供了一种灵活访问一个或者多个数组元素的方式"
   ]
  },
  {
   "cell_type": "code",
   "execution_count": 1,
   "id": "b89b0cc5",
   "metadata": {},
   "outputs": [],
   "source": [
    "import numpy as np"
   ]
  },
  {
   "cell_type": "code",
   "execution_count": 2,
   "id": "b4f4e6b5",
   "metadata": {},
   "outputs": [
    {
     "data": {
      "text/plain": [
       "array([[0, 1, 2],\n",
       "       [3, 4, 5]])"
      ]
     },
     "execution_count": 2,
     "metadata": {},
     "output_type": "execute_result"
    }
   ],
   "source": [
    "a = np.arange(6).reshape(2, 3)\n",
    "a"
   ]
  },
  {
   "cell_type": "code",
   "execution_count": 3,
   "id": "0326759c",
   "metadata": {},
   "outputs": [
    {
     "name": "stdout",
     "output_type": "stream",
     "text": [
      "0,1,2,3,4,5,"
     ]
    }
   ],
   "source": [
    "# 默认行序优先 C-order\n",
    "for x in np.nditer(a):\n",
    "    print(x, end=',')"
   ]
  },
  {
   "cell_type": "code",
   "execution_count": 4,
   "id": "a7c79a3f",
   "metadata": {},
   "outputs": [
    {
     "name": "stdout",
     "output_type": "stream",
     "text": [
      "0,3,1,4,2,5,"
     ]
    }
   ],
   "source": [
    "# 指定列序优先\n",
    "for x in np.nditer(a, order='F'):\n",
    "    print(x, end=',')"
   ]
  },
  {
   "cell_type": "markdown",
   "id": "1b52f211",
   "metadata": {},
   "source": [
    "- 修改数组中元素的值\n",
    "  - nditer 对象有另一个可选参数 op_flags\n",
    "  - 默认情况下，nditer 将视待迭代遍历的数组为只读对象（read-only）\n",
    "  - 为了在遍历数组的同时，实现对数组元素值的修改，必须指定 readwrite 或者 writeonly 的模式"
   ]
  },
  {
   "cell_type": "code",
   "execution_count": 5,
   "id": "c829e7d5",
   "metadata": {},
   "outputs": [
    {
     "data": {
      "text/plain": [
       "array([[ 0,  1,  2,  3],\n",
       "       [ 4,  5,  6,  7],\n",
       "       [ 8,  9, 10, 11]])"
      ]
     },
     "execution_count": 5,
     "metadata": {},
     "output_type": "execute_result"
    }
   ],
   "source": [
    "a = np.arange(12).reshape(3,4)\n",
    "a"
   ]
  },
  {
   "cell_type": "code",
   "execution_count": 6,
   "id": "8d67b459",
   "metadata": {},
   "outputs": [
    {
     "data": {
      "text/plain": [
       "array([[ 0,  2,  4,  6],\n",
       "       [ 8, 10, 12, 14],\n",
       "       [16, 18, 20, 22]])"
      ]
     },
     "execution_count": 6,
     "metadata": {},
     "output_type": "execute_result"
    }
   ],
   "source": [
    "# 把数组中的每个元素都变为原来的2倍\n",
    "for x in np.nditer(a, op_flags=['readwrite']):\n",
    "    x[...] = x * 2  # 省略号是惯例索引，表示对数组的所有元素进行操作\n",
    "    \n",
    "a"
   ]
  },
  {
   "cell_type": "markdown",
   "id": "f896d513",
   "metadata": {},
   "source": [
    "- 广播迭代\n",
    "  - 如果两个数组是可广播的， nditer组合对象能够同时迭代它们"
   ]
  },
  {
   "cell_type": "code",
   "execution_count": 8,
   "id": "9545cba5",
   "metadata": {},
   "outputs": [
    {
     "name": "stdout",
     "output_type": "stream",
     "text": [
      "0:10,1:20,2:30,3:40,4:10,5:20,6:30,7:40,8:10,9:20,10:30,11:40,"
     ]
    }
   ],
   "source": [
    "a = np.arange(12).reshape(3, 4)\n",
    "b = np.array([10, 20, 30, 40], dtype=int)\n",
    "\n",
    "# 数组b被广播到a的大小\n",
    "for x,y in np.nditer([a, b]):\n",
    "    print('{0}:{1}'.format(x,y), end=',')"
   ]
  },
  {
   "cell_type": "markdown",
   "id": "e707dc72",
   "metadata": {},
   "source": [
    "- 使用数组元素迭代器 flat"
   ]
  },
  {
   "cell_type": "code",
   "execution_count": 9,
   "id": "979ba4fb",
   "metadata": {},
   "outputs": [
    {
     "name": "stdout",
     "output_type": "stream",
     "text": [
      "[0 1 2 3]\n",
      "[4 5 6 7]\n",
      "[ 8  9 10 11]\n"
     ]
    }
   ],
   "source": [
    "a = np.arange(12).reshape(3, 4)\n",
    "\n",
    "for row in a:\n",
    "    print(row)"
   ]
  },
  {
   "cell_type": "code",
   "execution_count": 10,
   "id": "97904552",
   "metadata": {},
   "outputs": [
    {
     "name": "stdout",
     "output_type": "stream",
     "text": [
      "0\n",
      "1\n",
      "2\n",
      "3\n",
      "4\n",
      "5\n",
      "6\n",
      "7\n",
      "8\n",
      "9\n",
      "10\n",
      "11\n"
     ]
    }
   ],
   "source": [
    "for x in a.flat:\n",
    "    print(x)"
   ]
  }
 ],
 "metadata": {
  "kernelspec": {
   "display_name": "Python 3 (ipykernel)",
   "language": "python",
   "name": "python3"
  },
  "language_info": {
   "codemirror_mode": {
    "name": "ipython",
    "version": 3
   },
   "file_extension": ".py",
   "mimetype": "text/x-python",
   "name": "python",
   "nbconvert_exporter": "python",
   "pygments_lexer": "ipython3",
   "version": "3.11.4"
  }
 },
 "nbformat": 4,
 "nbformat_minor": 5
}
