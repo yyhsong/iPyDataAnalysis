{
 "cells": [
  {
   "cell_type": "markdown",
   "metadata": {},
   "source": [
    "# 字符串函数\n",
    "\n",
    "NumPy的字符串函数用于对 dtype 为 numpy.string_ 或 numpy.unicode_ 的数组执行向量化字符串操作。 它们基于 Python 内置库中的标准字符串函数。\n",
    "\n",
    "- add() 对两个数组的逐个字符串元素进行连接\n",
    "- multiply() 返回按元素多重连接后的字符串\n",
    "- center() 居中字符串\n",
    "- capitalize() 将字符串第一个字母转换为大写\n",
    "- title() 将字符串的每个单词的第一个字母转换为大写\n",
    "- lower() 数组元素转换为小写\n",
    "- upper() 数组元素转换为大写\n",
    "- split() 指定分隔符对字符串进行分割，并返回数组列表\n",
    "- splitlines() 返回元素中的行列表，以换行符分割\n",
    "- strip() 移除元素开头或者结尾处的特定字符\n",
    "- join() 通过指定分隔符来连接数组中的元素\n",
    "- replace() 使用新字符串替换字符串中的所有子字符串\n",
    "- decode() 数组元素依次调用str.decode\n",
    "- encode() 数组元素依次调用str.encode"
   ]
  },
  {
   "cell_type": "markdown",
   "metadata": {},
   "source": [
    "# 数学函数\n",
    "\n",
    "NumPy 包含大量的各种数学运算的函数，包括（反）三角函数，算术运算的函数，复数处理函数等\n",
    "\n",
    "(反)三角函数\n",
    "- sin() arcsin()\n",
    "- cos() arccos()\n",
    "- tan() arctan()\n",
    "- degrees() 将弧度转换为角度\n",
    "\n",
    "舍入函数\n",
    "- around() 返回指定数字的四舍五入值\n",
    "- floor() 返回小于或者等于指定表达式的最大整数，即向下取整\n",
    "- ceil() 返回大于或者等于指定表达式的最小整数，即向上取整"
   ]
  },
  {
   "cell_type": "markdown",
   "metadata": {},
   "source": [
    "# 算术函数\n",
    "\n",
    "Numpy的算术函数包含基本的加减乘除，参与算术运算的数组必须具有相同的形状或符合数组广播规则\n",
    "\n",
    "- add()\n",
    "- subtract()\n",
    "- multiply()\n",
    "- divide()\n",
    "- reciprocal() 返回参数逐元素的倒数\n",
    "- power() 将第一个输入数组中的元素作为底数，计算它与第二个输入数组中相应元素的幂\n",
    "- mod() 计算输入数组中相应元素的相除后的余数\n",
    "- remainder() 同mod()"
   ]
  },
  {
   "cell_type": "markdown",
   "metadata": {},
   "source": [
    "# 排序、条件筛选函数\n",
    "\n",
    "NumPy 提供了多种排序的方法。 这些排序函数实现不同的排序算法，每个排序算法的特征在于执行速度，最坏情况性能，所需的工作空间和算法的稳定性\n",
    "\n",
    "- numpy.sort(a, axis, kind, order)\n",
    "  - a 要排序的数组\n",
    "  - axis 沿着它排序数组的轴，如果没有数组会被展开，沿着最后的轴排序， axis=0 按列排序，axis=1 按行排序\n",
    "  - kind 默认为quicksort\n",
    "    - quicksort 快速排序\n",
    "    - mergesort 归并排序\n",
    "    - heapsort 堆排序\n",
    "  - order 如果数组包含字段，则是要排序的字段\n",
    "- argsort() 返回的是数组值从小到大的索引值\n",
    "- lexsort() 用于对多个序列进行排序"
   ]
  },
  {
   "cell_type": "markdown",
   "metadata": {},
   "source": [
    "# 梯度函数\n",
    "\n",
    "- gradient(a) 计算数组a中元素的梯度，当a为多维数组时，返回每个维度的梯度\n",
    "\n",
    "梯度：连续值之前的变化率，即斜率\n",
    "\n",
    "如果xy坐标轴连续三个x坐标对应的y轴值为a,b,c，则b的梯度为：(c-a) / 2"
   ]
  }
 ],
 "metadata": {
  "kernelspec": {
   "display_name": "Python 3 (ipykernel)",
   "language": "python",
   "name": "python3"
  },
  "language_info": {
   "codemirror_mode": {
    "name": "ipython",
    "version": 3
   },
   "file_extension": ".py",
   "mimetype": "text/x-python",
   "name": "python",
   "nbconvert_exporter": "python",
   "pygments_lexer": "ipython3",
   "version": "3.11.4"
  }
 },
 "nbformat": 4,
 "nbformat_minor": 4
}
