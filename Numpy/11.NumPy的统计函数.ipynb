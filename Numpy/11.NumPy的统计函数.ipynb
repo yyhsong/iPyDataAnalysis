{
 "cells": [
  {
   "cell_type": "markdown",
   "metadata": {},
   "source": [
    "# Numpy的统计函数\n",
    "\n",
    "- sum(a, axis=None) 根据给定轴axis计算数组a相关元素之和，axis整数或元祖\n",
    "- mean(a, axis=None) 根据给定轴axis计算数组a相关元素的期望，axis整数或元祖\n",
    "- average(a, axis=None, weights=None) 根据给定轴axis计算数组a相关元素的加权平均值\n",
    "- std(a, axis=None) 根据给定轴axis计算数组a相关元素的标准差\n",
    "- var(a, axis=None) 根据给定轴axis计算数组a相关元素的方差\n",
    "- max(a) min(a) 计算数组a中元素的最大值、最小值\n",
    "- argmax(a) argmin(a) 计算数组a中元素最大值、最小值的降一维后下标\n",
    "- unravel_index(index, shape) 根据shape将一维下标index转换成多维下标\n",
    "- ptp(a) 计算数组a中元素最大值和最小值的差\n",
    "- median(a) 计算数组a中元素的中位数（中值）\n",
    "\n",
    "*`axis=None`是统计函数的标配参数*"
   ]
  },
  {
   "cell_type": "code",
   "execution_count": 1,
   "metadata": {},
   "outputs": [],
   "source": [
    "import numpy as np"
   ]
  },
  {
   "cell_type": "code",
   "execution_count": 2,
   "metadata": {},
   "outputs": [
    {
     "data": {
      "text/plain": [
       "array([[ 0,  1,  2,  3,  4],\n",
       "       [ 5,  6,  7,  8,  9],\n",
       "       [10, 11, 12, 13, 14]])"
      ]
     },
     "execution_count": 2,
     "metadata": {},
     "output_type": "execute_result"
    }
   ],
   "source": [
    "a = np.arange(15).reshape(3, 5)\n",
    "a"
   ]
  },
  {
   "cell_type": "code",
   "execution_count": 3,
   "metadata": {},
   "outputs": [
    {
     "data": {
      "text/plain": [
       "105"
      ]
     },
     "execution_count": 3,
     "metadata": {},
     "output_type": "execute_result"
    }
   ],
   "source": [
    "# 求和\n",
    "np.sum(a)"
   ]
  },
  {
   "cell_type": "code",
   "execution_count": 4,
   "metadata": {},
   "outputs": [
    {
     "data": {
      "text/plain": [
       "array([ 2.,  7., 12.])"
      ]
     },
     "execution_count": 4,
     "metadata": {},
     "output_type": "execute_result"
    }
   ],
   "source": [
    "# 求给定轴的期望\n",
    "np.mean(a, axis=1)"
   ]
  },
  {
   "cell_type": "code",
   "execution_count": 5,
   "metadata": {},
   "outputs": [
    {
     "data": {
      "text/plain": [
       "array([5., 6., 7., 8., 9.])"
      ]
     },
     "execution_count": 5,
     "metadata": {},
     "output_type": "execute_result"
    }
   ],
   "source": [
    "# axis=0表示列\n",
    "np.mean(a, axis=0)"
   ]
  },
  {
   "cell_type": "code",
   "execution_count": 6,
   "metadata": {},
   "outputs": [
    {
     "data": {
      "text/plain": [
       "array([2.1875, 3.1875, 4.1875, 5.1875, 6.1875])"
      ]
     },
     "execution_count": 6,
     "metadata": {},
     "output_type": "execute_result"
    }
   ],
   "source": [
    "# 求加权平均值\n",
    "np.average(a, axis=0, weights=[10, 5, 1])\n",
    "\n",
    "# 2*10 + 7*5 + 1*12 / (10+5+1) = 4.1875"
   ]
  },
  {
   "cell_type": "code",
   "execution_count": 7,
   "metadata": {},
   "outputs": [
    {
     "data": {
      "text/plain": [
       "4.320493798938574"
      ]
     },
     "execution_count": 7,
     "metadata": {},
     "output_type": "execute_result"
    }
   ],
   "source": [
    "# 求标准差\n",
    "np.std(a)"
   ]
  },
  {
   "cell_type": "code",
   "execution_count": 8,
   "metadata": {},
   "outputs": [
    {
     "data": {
      "text/plain": [
       "18.666666666666668"
      ]
     },
     "execution_count": 8,
     "metadata": {},
     "output_type": "execute_result"
    }
   ],
   "source": [
    "# 求方差\n",
    "np.var(a)"
   ]
  },
  {
   "cell_type": "code",
   "execution_count": 9,
   "metadata": {},
   "outputs": [
    {
     "data": {
      "text/plain": [
       "array([[15, 14, 13, 12, 11],\n",
       "       [10,  9,  8,  7,  6],\n",
       "       [ 5,  4,  3,  2,  1]])"
      ]
     },
     "execution_count": 9,
     "metadata": {},
     "output_type": "execute_result"
    }
   ],
   "source": [
    "b = np.arange(15, 0, -1).reshape(3, 5)\n",
    "b"
   ]
  },
  {
   "cell_type": "code",
   "execution_count": 10,
   "metadata": {},
   "outputs": [
    {
     "data": {
      "text/plain": [
       "15"
      ]
     },
     "execution_count": 10,
     "metadata": {},
     "output_type": "execute_result"
    }
   ],
   "source": [
    "# 最大值\n",
    "np.max(b)"
   ]
  },
  {
   "cell_type": "code",
   "execution_count": 12,
   "metadata": {
    "scrolled": true
   },
   "outputs": [
    {
     "data": {
      "text/plain": [
       "0"
      ]
     },
     "execution_count": 12,
     "metadata": {},
     "output_type": "execute_result"
    }
   ],
   "source": [
    "# 扁平化后的下标\n",
    "np.argmax(b)"
   ]
  },
  {
   "cell_type": "code",
   "execution_count": 13,
   "metadata": {},
   "outputs": [
    {
     "data": {
      "text/plain": [
       "(0, 0)"
      ]
     },
     "execution_count": 13,
     "metadata": {},
     "output_type": "execute_result"
    }
   ],
   "source": [
    "# 重塑成多维下标\n",
    "np.unravel_index(np.argmax(b), b.shape)"
   ]
  },
  {
   "cell_type": "code",
   "execution_count": 14,
   "metadata": {},
   "outputs": [
    {
     "data": {
      "text/plain": [
       "14"
      ]
     },
     "execution_count": 14,
     "metadata": {},
     "output_type": "execute_result"
    }
   ],
   "source": [
    "# 求最大值和最小值之间的差\n",
    "np.ptp(b)"
   ]
  },
  {
   "cell_type": "code",
   "execution_count": 15,
   "metadata": {},
   "outputs": [
    {
     "data": {
      "text/plain": [
       "8.0"
      ]
     },
     "execution_count": 15,
     "metadata": {},
     "output_type": "execute_result"
    }
   ],
   "source": [
    "# 求中位数\n",
    "np.median(b)"
   ]
  },
  {
   "cell_type": "markdown",
   "metadata": {},
   "source": [
    "### 平均值和中位数\n",
    "\n",
    "- 平均值和中位数是常用的统计量，用来描述一组数据的集中趋势\n",
    "- 平均值是一组数据所有数值之和除以数据的个数，平均值对数据的每个数值都有影响，因此受到离群值的影响较大\n",
    "- 中位数是一组数据按照升序或降序排列后，位于中间位置的数值（如果数据的个数为偶数，中位数则是中间两个数值的平均值），中位数不受离群值的影响\n",
    "- 平均值和中位数的区别在于对于离群值的敏感度和数据集中趋势的不同描述方式"
   ]
  },
  {
   "cell_type": "markdown",
   "metadata": {},
   "source": [
    "### 方差和标准差\n",
    "\n",
    "- 方差和标准差都是用来描述一组数据的离散程度或变异性的统计量\n",
    "- 方差是一组数据与其平均值之差的平方的平均值，方差衡量了数据集中及各个数据与平均值的离散程度\n",
    "- 标准差是方差的平方根，用于度量数据的平均分散程度\n",
    "- 方差和标准差都可以用来衡量数据的离散程度，但标准差更直观、易于理解，因为它使用与原始数据相同的单位"
   ]
  },
  {
   "cell_type": "markdown",
   "metadata": {},
   "source": [
    "### 均匀分布、正态分布和泊松分布\n",
    "\n",
    "均匀分布、正态分布和泊松分布是常见的概率分布模型，它们在统计和概率领域具有广泛的应用\n",
    "\n",
    "- 均匀分布（Uniform Distribution）：均匀分布是指在一段连续的区间内，每个数值出现的概率相等。例如，投掷一个公正的骰子，每个面出现的概率都是1/6，就是均匀分布。均匀分布适用于随机选择的场景，其中每个可能的结果具有相等的概率。在抽样、随机过程和随机模拟等应用中，均匀分布是常用的模型。\n",
    "- 正态分布（Normal Distribution）：正态分布又称为高斯分布，是应用较广泛的概率分布。它呈钟形曲线，对称分布在均值周围。许多自然现象和人类特质都可以用正态分布来描述，例如身高、体重、考试成绩等。例如，在某个人群中测量身高，大多数人的身高集中在平均值附近，极端值较为罕见。正态分布还涉及到一些重要的统计理论，如中心极限定理和最小二乘法。\n",
    "- 泊松分布（Poisson Distribution）：泊松分布用于描述一定时间或空间内随机事件的发生次数。例如，某个网站每天平均接收到10个用户的评论，使用泊松分布可以模拟每天接收到不同数量评论的概率。泊松分布适用于描述独立事件在给定时间或空间上的发生频率，且事件间发生的时间间隔是随机的。应用场景包括电话呼叫数量、交通事故数量、疾病发生率等。\n",
    "\n",
    "以上分布模型只是用来描述实际数据的理想化数学模型，并不能完美地涵盖所有情况。在实际应用中，通常需要根据具体的数据特点和实验结果选择合适的分布模型。"
   ]
  }
 ],
 "metadata": {
  "kernelspec": {
   "display_name": "Python 3 (ipykernel)",
   "language": "python",
   "name": "python3"
  },
  "language_info": {
   "codemirror_mode": {
    "name": "ipython",
    "version": 3
   },
   "file_extension": ".py",
   "mimetype": "text/x-python",
   "name": "python",
   "nbconvert_exporter": "python",
   "pygments_lexer": "ipython3",
   "version": "3.11.4"
  }
 },
 "nbformat": 4,
 "nbformat_minor": 4
}
