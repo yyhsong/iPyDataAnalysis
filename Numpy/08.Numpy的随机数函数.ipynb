{
 "cells": [
  {
   "cell_type": "markdown",
   "metadata": {},
   "source": [
    "# Numpy的随机数函数子库 np.random.*\n",
    "\n",
    "- rand(d0, d1, ..., dn) 根据d0-dn创建随机数数组，浮点数，`[0,1)`, 均匀分布\n",
    "- randn(d0, d1, ..., dn) 根据d0-dn创建随机数数组，标准正态分布\n",
    "- randint(low [,high, shape]) 根据shape创建随机整数或整数数组，范围是[low, high] \n",
    "- seed(s) 随机数种子，s是给定的种子值\n",
    "- shuffle(a) 根据数组a的第1轴进行随机排列，改变数组a\n",
    "- permutation(a) 根据数组a的第1轴进行随机排列，不改变数组a\n",
    "- choice(a [,size, replace, p]) 从一维数组a中以概率p抽取元素，形成size形状新数组，replace表示是否可以重用元素，默认为False \n",
    "- uniform(low, high, size) 产生具有均匀分布的数组，low起始值，high结束值，size形状\n",
    "- normal(loc, scale, size) 产生具有正态分布的数组，loc均值，scale标准差，size形状\n",
    "- poisson(lam, size) 产生具有泊松分布的数组，lam随机事件发生率，size形状"
   ]
  },
  {
   "cell_type": "code",
   "execution_count": 1,
   "metadata": {},
   "outputs": [],
   "source": [
    "import numpy as np"
   ]
  },
  {
   "cell_type": "code",
   "execution_count": 2,
   "metadata": {},
   "outputs": [
    {
     "data": {
      "text/plain": [
       "array([[[0.81397331, 0.01707373, 0.37030264, 0.08544855, 0.31300509],\n",
       "        [0.47648296, 0.62351843, 0.88257131, 0.12277087, 0.18488801],\n",
       "        [0.65752311, 0.31262521, 0.90912846, 0.60333302, 0.980383  ],\n",
       "        [0.78399949, 0.62318125, 0.06435089, 0.09920882, 0.94187306]],\n",
       "\n",
       "       [[0.76769405, 0.58627869, 0.2587539 , 0.59874875, 0.38499588],\n",
       "        [0.76393189, 0.22581113, 0.35735004, 0.54681143, 0.73756199],\n",
       "        [0.37665482, 0.33521221, 0.33450598, 0.6813217 , 0.23468001],\n",
       "        [0.18401146, 0.36354704, 0.1874625 , 0.60804519, 0.85644749]],\n",
       "\n",
       "       [[0.18234782, 0.43348633, 0.04785395, 0.39291687, 0.49948241],\n",
       "        [0.04706495, 0.27797706, 0.09587557, 0.28230783, 0.84494189],\n",
       "        [0.23863328, 0.67225865, 0.31825046, 0.82687554, 0.28505294],\n",
       "        [0.12234853, 0.89489617, 0.75508188, 0.61422455, 0.42177258]]])"
      ]
     },
     "execution_count": 2,
     "metadata": {},
     "output_type": "execute_result"
    }
   ],
   "source": [
    "np.random.rand(3, 4, 5)"
   ]
  },
  {
   "cell_type": "code",
   "execution_count": 3,
   "metadata": {},
   "outputs": [
    {
     "data": {
      "text/plain": [
       "array([[[ 0.26596328,  0.87318955,  0.84617358,  0.04833982,\n",
       "          0.193815  ],\n",
       "        [ 0.42263984, -0.98377108,  0.08760958, -0.90465604,\n",
       "         -0.73979245],\n",
       "        [ 1.05370222, -0.1068575 ,  0.20341053,  0.03036883,\n",
       "         -0.0897704 ],\n",
       "        [ 2.4790369 , -0.93606826, -0.24425241, -0.82424738,\n",
       "         -0.76578804]],\n",
       "\n",
       "       [[-1.098576  ,  1.03116521,  0.63445908,  0.46461154,\n",
       "          1.41974008],\n",
       "        [-1.67066365,  0.51056443, -1.54184711,  0.28520688,\n",
       "         -0.69549042],\n",
       "        [-2.01894052, -0.33314339,  0.56252223, -0.03291685,\n",
       "         -1.41715005],\n",
       "        [-0.13345506,  0.70694329,  0.72627464, -0.302003  ,\n",
       "          0.03349654]],\n",
       "\n",
       "       [[ 0.64645657,  1.82862268,  0.89781739, -1.27660016,\n",
       "         -0.22199731],\n",
       "        [ 1.59841426, -1.46895148, -1.26610467,  0.76770029,\n",
       "          0.41521738],\n",
       "        [ 1.28008594,  0.17813768, -0.26205414, -0.96064468,\n",
       "          0.20978351],\n",
       "        [-0.66078623,  1.27500653,  0.26537288,  2.40146315,\n",
       "          1.59383306]]])"
      ]
     },
     "execution_count": 3,
     "metadata": {},
     "output_type": "execute_result"
    }
   ],
   "source": [
    "np.random.randn(3, 4, 5)"
   ]
  },
  {
   "cell_type": "code",
   "execution_count": 4,
   "metadata": {},
   "outputs": [
    {
     "data": {
      "text/plain": [
       "array([[105, 143, 168, 169],\n",
       "       [145, 141, 143, 134],\n",
       "       [120, 134, 172, 186]])"
      ]
     },
     "execution_count": 4,
     "metadata": {},
     "output_type": "execute_result"
    }
   ],
   "source": [
    "np.random.randint(100, 200, (3, 4))"
   ]
  },
  {
   "cell_type": "code",
   "execution_count": 14,
   "metadata": {},
   "outputs": [
    {
     "data": {
      "text/plain": [
       "array([[137, 112, 172, 109],\n",
       "       [175, 105, 179, 164],\n",
       "       [116, 101, 176, 171]])"
      ]
     },
     "execution_count": 14,
     "metadata": {},
     "output_type": "execute_result"
    }
   ],
   "source": [
    "# 给定随机数种子，则该种子值下生成的随机数固定\n",
    "np.random.seed(1)\n",
    "np.random.randint(100, 200, (3, 4))"
   ]
  },
  {
   "cell_type": "code",
   "execution_count": 15,
   "metadata": {},
   "outputs": [
    {
     "data": {
      "text/plain": [
       "array([[106, 125, 150, 120],\n",
       "       [118, 184, 111, 128],\n",
       "       [129, 114, 150, 168]])"
      ]
     },
     "execution_count": 15,
     "metadata": {},
     "output_type": "execute_result"
    }
   ],
   "source": [
    "a = np.random.randint(100, 200, (3, 4))\n",
    "a"
   ]
  },
  {
   "cell_type": "code",
   "execution_count": 17,
   "metadata": {},
   "outputs": [
    {
     "data": {
      "text/plain": [
       "array([[129, 114, 150, 168],\n",
       "       [106, 125, 150, 120],\n",
       "       [118, 184, 111, 128]])"
      ]
     },
     "execution_count": 17,
     "metadata": {},
     "output_type": "execute_result"
    }
   ],
   "source": [
    "# 改变了原数组\n",
    "np.random.shuffle(a)\n",
    "a"
   ]
  },
  {
   "cell_type": "code",
   "execution_count": 18,
   "metadata": {},
   "outputs": [
    {
     "data": {
      "text/plain": [
       "array([186, 113, 109, 107, 163, 161, 122, 157])"
      ]
     },
     "execution_count": 18,
     "metadata": {},
     "output_type": "execute_result"
    }
   ],
   "source": [
    "b = np.random.randint(100, 200, (8,))\n",
    "b"
   ]
  },
  {
   "cell_type": "code",
   "execution_count": 19,
   "metadata": {},
   "outputs": [
    {
     "data": {
      "text/plain": [
       "array([[113, 186],\n",
       "       [163, 113],\n",
       "       [186, 186]])"
      ]
     },
     "execution_count": 19,
     "metadata": {},
     "output_type": "execute_result"
    }
   ],
   "source": [
    "np.random.choice(b, (3, 2))"
   ]
  },
  {
   "cell_type": "code",
   "execution_count": 20,
   "metadata": {},
   "outputs": [
    {
     "data": {
      "text/plain": [
       "array([[122, 163],\n",
       "       [157, 186],\n",
       "       [113, 109]])"
      ]
     },
     "execution_count": 20,
     "metadata": {},
     "output_type": "execute_result"
    }
   ],
   "source": [
    "# 不能重复使用元素\n",
    "np.random.choice(b, (3, 2), replace=False)"
   ]
  },
  {
   "cell_type": "code",
   "execution_count": 21,
   "metadata": {},
   "outputs": [
    {
     "data": {
      "text/plain": [
       "array([[4.21107625, 9.5788953 , 5.33165285, 6.91877114],\n",
       "       [3.15515631, 6.86500928, 8.34625672, 0.18288277],\n",
       "       [7.50144315, 9.88861089, 7.48165654, 2.80443992]])"
      ]
     },
     "execution_count": 21,
     "metadata": {},
     "output_type": "execute_result"
    }
   ],
   "source": [
    "# 均匀分布\n",
    "np.random.uniform(0, 10, (3,4))"
   ]
  },
  {
   "cell_type": "code",
   "execution_count": 22,
   "metadata": {},
   "outputs": [
    {
     "data": {
      "text/plain": [
       "array([[ 8.91290912, 10.79257442, 14.36709117,  9.44308315],\n",
       "       [ 4.80980618,  4.95260087,  4.70871719, 13.28142039],\n",
       "       [ 9.68754203,  1.30672853, 10.51581498,  6.89166576]])"
      ]
     },
     "execution_count": 22,
     "metadata": {},
     "output_type": "execute_result"
    }
   ],
   "source": [
    "# 正态分布\n",
    "np.random.normal(10, 5, (3,4))"
   ]
  }
 ],
 "metadata": {
  "kernelspec": {
   "display_name": "Python 3",
   "language": "python",
   "name": "python3"
  },
  "language_info": {
   "codemirror_mode": {
    "name": "ipython",
    "version": 3
   },
   "file_extension": ".py",
   "mimetype": "text/x-python",
   "name": "python",
   "nbconvert_exporter": "python",
   "pygments_lexer": "ipython3",
   "version": "3.8.5"
  }
 },
 "nbformat": 4,
 "nbformat_minor": 4
}
