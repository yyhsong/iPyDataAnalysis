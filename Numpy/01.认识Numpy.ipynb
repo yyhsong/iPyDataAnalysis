{
 "cells": [
  {
   "cell_type": "markdown",
   "metadata": {},
   "source": [
    "# 数据的维度\n",
    "\n",
    "数据维度是数据的组织形式\n",
    "\n",
    "- 一维数据\n",
    "    - 一维数据由对等关系的有序或无序数据构成，采用线性方式组织\n",
    "    - 对应列表、数组、集合等概念\n",
    "- 二维数据\n",
    "    - 二维数据由多个一维数据构成，是一维数据的组合形式\n",
    "    - 表格是典型的二维数据，其中表头是二维数据的一部分\n",
    "- 多维数据\n",
    "    - 多维数据由一维或二维数据在新维度上扩展形成\n",
    "    - 比如在原有二维数据的基础上，叠加时间维度\n",
    "- 高维数据\n",
    "    - 高维数据仅利用最基本的二元关系展示数据间的复杂结构\n",
    "    - 键/值对，字典类型或数据表示格式，如JSON, XML, YAML等"
   ]
  },
  {
   "cell_type": "markdown",
   "metadata": {},
   "source": [
    "# Numpy是什么\n",
    "\n",
    "- Numpy是一个Python科学计算的基础库\n",
    "- Numpy是Scipy, Pandas等数据处理或科学计算库的基础\n",
    "- Numpy包含：\n",
    "    - 一个强大的多维数组对象 ndarray\n",
    "    - 广播功能函数\n",
    "    - 整合C/C++/Fortran代码的工具\n",
    "    - 线性代数、傅里叶变换、随机数生成等功能"
   ]
  },
  {
   "cell_type": "markdown",
   "metadata": {},
   "source": [
    "# 为什么需要多维数组对象 ndarray\n",
    "\n",
    "- ndarray可以去掉元素间运算所需的循环，使一维向量更像单个数据\n",
    "- 性能优化，可以提升运算速度\n",
    "- 科学计算中，同一个维度所有数据的类型往往相同\n",
    "- ndarray采用相同的数据类型，有助于节省运算和存储空间\n",
    "- ndarray是一个多维数组对象，由两部分组成：\n",
    "    - 实际的数据\n",
    "    - 描述实际数据的元数据（数据维度、数据类型等）\n",
    "- ndarray一般要求所有元素类型相同（同质），数组下标从0开始"
   ]
  },
  {
   "cell_type": "code",
   "execution_count": 1,
   "metadata": {},
   "outputs": [
    {
     "data": {
      "text/plain": [
       "[37, 53, 73, 97, 125]"
      ]
     },
     "execution_count": 1,
     "metadata": {},
     "output_type": "execute_result"
    }
   ],
   "source": [
    "# 使用list计算\n",
    "def pySum():\n",
    "    x = [1, 2, 3, 4, 5]\n",
    "    y = [6, 7, 8, 9, 10]\n",
    "    n = []\n",
    "    \n",
    "    for i in range(len(x)):\n",
    "        n.append(x[i]**2 + y[i]**2)\n",
    "        \n",
    "    return n\n",
    "\n",
    "pySum()"
   ]
  },
  {
   "cell_type": "code",
   "execution_count": 6,
   "metadata": {},
   "outputs": [
    {
     "name": "stdout",
     "output_type": "stream",
     "text": [
      "[ 37  53  73  97 125]\n"
     ]
    },
    {
     "data": {
      "text/plain": [
       "array([ 37,  53,  73,  97, 125], dtype=int32)"
      ]
     },
     "execution_count": 6,
     "metadata": {},
     "output_type": "execute_result"
    }
   ],
   "source": [
    "# 使用ndarray计算\n",
    "import numpy as np\n",
    "\n",
    "def npSum():\n",
    "    x = np.array([1, 2, 3, 4, 5])  # 生成ndarray对象\n",
    "    y = np.array([6, 7, 8, 9, 10])\n",
    "    \n",
    "    n = x**2 + y**2\n",
    "    \n",
    "    return n\n",
    "\n",
    "print(npSum())\n",
    "npSum()"
   ]
  }
 ],
 "metadata": {
  "kernelspec": {
   "display_name": "Python 3",
   "language": "python",
   "name": "python3"
  },
  "language_info": {
   "codemirror_mode": {
    "name": "ipython",
    "version": 3
   },
   "file_extension": ".py",
   "mimetype": "text/x-python",
   "name": "python",
   "nbconvert_exporter": "python",
   "pygments_lexer": "ipython3",
   "version": "3.8.5"
  }
 },
 "nbformat": 4,
 "nbformat_minor": 4
}
