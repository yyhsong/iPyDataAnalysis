{
 "cells": [
  {
   "cell_type": "code",
   "execution_count": 1,
   "metadata": {},
   "outputs": [],
   "source": [
    "import numpy as np"
   ]
  },
  {
   "cell_type": "code",
   "execution_count": 3,
   "metadata": {
    "scrolled": true
   },
   "outputs": [
    {
     "name": "stdout",
     "output_type": "stream",
     "text": [
      "[1 2 3 4 5]\n"
     ]
    }
   ],
   "source": [
    "# 生成一个ndarray实例\n",
    "a = np.array([1, 2, 3, 4, 5])\n",
    "\n",
    "# ndarray输出成[]形式，元素之间由空格分隔\n",
    "print(a)"
   ]
  },
  {
   "cell_type": "markdown",
   "metadata": {},
   "source": [
    "# ndarray对象的属性\n",
    "\n",
    "- ndim 秩，即轴的数量或数据维度的数量\n",
    "- shape ndarray对象的尺度，对于矩阵，n行m列\n",
    "- size ndarray对象元素的个数，相当于shape中n * m的值\n",
    "- dtype ndarray对象的元素类型\n",
    "- itemsize 每个元素的大小，以字节为单位"
   ]
  },
  {
   "cell_type": "code",
   "execution_count": 6,
   "metadata": {},
   "outputs": [
    {
     "name": "stdout",
     "output_type": "stream",
     "text": [
      "ndim: 2\n",
      "shape: (3, 4)\n",
      "size: 12\n",
      "dtype: int32\n",
      "itemsize: 4\n"
     ]
    }
   ],
   "source": [
    "nums = [\n",
    "    [1, 2, 3, 4],\n",
    "    [5, 6, 7, 8],\n",
    "    [9, 10, 11, 12]\n",
    "]\n",
    "\n",
    "nda = np.array(nums)\n",
    "\n",
    "print('ndim:', nda.ndim)\n",
    "print('shape:', nda.shape)\n",
    "print('size:', nda.size)\n",
    "print('dtype:', nda.dtype)\n",
    "print('itemsize:', nda.itemsize)"
   ]
  },
  {
   "cell_type": "markdown",
   "metadata": {},
   "source": [
    "# ndarray的元素类型\n",
    "\n",
    "- bool 布尔类型，True或False\n",
    "- intc 与C语言中的int类型一致，一般是int32或int64\n",
    "- intp 用于索引的整数，与C语言中ssize_t一致，int32或int64\n",
    "- int8 字节长度的整数，取值[-128, 127]\n",
    "- int16 16位长度的整数\n",
    "- int32 32位长度的整数\n",
    "- int64 64位长度的整数\n",
    "- uint8 8位无符号整数，取值[0, 255]\n",
    "- unit16\n",
    "- unit16\n",
    "- unit32\n",
    "- unit64\n",
    "- float16 16位半精度浮点数：1位符号位，5位指数，10位尾数\n",
    "- float32\n",
    "- float64\n",
    "- complex64 复数类型，实部和虚部都是32位浮点数\n",
    "- complex128"
   ]
  },
  {
   "cell_type": "markdown",
   "metadata": {},
   "source": [
    "# ndarray为什么要支持这么多元素类型\n",
    "\n",
    "- numpy的数据类型实际上是dtype对象的实例，并对应唯一的字符，如np.int32\n",
    "- Python语法仅支持整数、浮点数和复数三种类型\n",
    "- 科学计算涉及数据较多，对存储和性能都有较高的要求\n",
    "- 对元素类型精细定义，有助于NumPy合理使用存储空间并优化性能\n",
    "- 对元素类型精细定义，有助于程序员对程序规模有合理评估"
   ]
  },
  {
   "cell_type": "markdown",
   "metadata": {},
   "source": [
    "# 非同质的ndarray对象\n",
    "\n",
    "- ndarray可以由非同质对象构成\n",
    "- 非同质ndarray的元素类型为对象类型\n",
    "- 非同质ndarray无法有效发挥NumPy的优势，应尽量避免"
   ]
  },
  {
   "cell_type": "code",
   "execution_count": 9,
   "metadata": {},
   "outputs": [
    {
     "name": "stdout",
     "output_type": "stream",
     "text": [
      "ndim: 1\n",
      "shape: (2,)\n",
      "size: 2\n",
      "dtype: object\n",
      "itemsize: 8\n"
     ]
    },
    {
     "data": {
      "text/plain": [
       "array([list([1, 2, 3, 4]), list(['a', 'b', 'c'])], dtype=object)"
      ]
     },
     "execution_count": 9,
     "metadata": {},
     "output_type": "execute_result"
    }
   ],
   "source": [
    "n = np.array([\n",
    "    [1, 2, 3, 4],\n",
    "    ['a', 'b', 'c']\n",
    "], dtype='object')\n",
    "\n",
    "print('ndim:', n.ndim)\n",
    "print('shape:', n.shape)\n",
    "print('size:', n.size)\n",
    "print('dtype:', n.dtype)\n",
    "print('itemsize:', n.itemsize)\n",
    "\n",
    "n"
   ]
  }
 ],
 "metadata": {
  "kernelspec": {
   "display_name": "Python 3 (ipykernel)",
   "language": "python",
   "name": "python3"
  },
  "language_info": {
   "codemirror_mode": {
    "name": "ipython",
    "version": 3
   },
   "file_extension": ".py",
   "mimetype": "text/x-python",
   "name": "python",
   "nbconvert_exporter": "python",
   "pygments_lexer": "ipython3",
   "version": "3.11.4"
  }
 },
 "nbformat": 4,
 "nbformat_minor": 4
}
