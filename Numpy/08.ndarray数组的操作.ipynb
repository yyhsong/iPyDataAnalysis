{
 "cells": [
  {
   "cell_type": "code",
   "execution_count": 1,
   "id": "e9245ff1",
   "metadata": {},
   "outputs": [],
   "source": [
    "import numpy as np"
   ]
  },
  {
   "cell_type": "markdown",
   "id": "85b1992b",
   "metadata": {},
   "source": [
    "# append\n",
    "\n",
    "- numpy.append(arr, values, axis=None)\n",
    "- append 函数在数组的末尾添加值，追加操作会分配整个数组，并把原来的数组复制到新数组中\n",
    "- 输入数组的维度必须匹配否则将生成ValueError"
   ]
  },
  {
   "cell_type": "code",
   "execution_count": 3,
   "id": "52f22843",
   "metadata": {},
   "outputs": [
    {
     "data": {
      "text/plain": [
       "array([[1, 2, 3],\n",
       "       [4, 5, 6]])"
      ]
     },
     "execution_count": 3,
     "metadata": {},
     "output_type": "execute_result"
    }
   ],
   "source": [
    "a = np.arange(1, 7).reshape(2, 3)\n",
    "a"
   ]
  },
  {
   "cell_type": "code",
   "execution_count": 5,
   "id": "4cc3a252",
   "metadata": {},
   "outputs": [
    {
     "data": {
      "text/plain": [
       "array([1, 2, 3, 4, 5, 6, 7, 8, 9])"
      ]
     },
     "execution_count": 5,
     "metadata": {},
     "output_type": "execute_result"
    }
   ],
   "source": [
    "b = np.append(a, [7, 8, 9])\n",
    "b"
   ]
  },
  {
   "cell_type": "code",
   "execution_count": 7,
   "id": "3fe3f4c7",
   "metadata": {},
   "outputs": [
    {
     "data": {
      "text/plain": [
       "array([[1, 2, 3],\n",
       "       [4, 5, 6],\n",
       "       [7, 8, 9]])"
      ]
     },
     "execution_count": 7,
     "metadata": {},
     "output_type": "execute_result"
    }
   ],
   "source": [
    "# 沿轴0添加：列数要相同\n",
    "b0 = np.append(a, [[7, 8, 9]], axis=0)\n",
    "b0"
   ]
  },
  {
   "cell_type": "code",
   "execution_count": 9,
   "id": "018fe714",
   "metadata": {},
   "outputs": [
    {
     "data": {
      "text/plain": [
       "array([[ 1,  2,  3,  7,  8,  9],\n",
       "       [ 4,  5,  6, 10, 11, 12]])"
      ]
     },
     "execution_count": 9,
     "metadata": {},
     "output_type": "execute_result"
    }
   ],
   "source": [
    "# 沿轴1添加：数组加在右边，行数要相同\n",
    "b1 = np.append(a, [[7, 8, 9], [10, 11, 12]], axis=1)\n",
    "b1"
   ]
  },
  {
   "cell_type": "markdown",
   "id": "3ad2b473",
   "metadata": {},
   "source": [
    "# insert\n",
    "\n",
    "- numpy.insert(arr, obj, values, axis)\n",
    "- insert 函数在给定索引之前，沿给定轴在目标数组中插入值"
   ]
  },
  {
   "cell_type": "code",
   "execution_count": 12,
   "id": "a6fe0f5e",
   "metadata": {},
   "outputs": [
    {
     "data": {
      "text/plain": [
       "array([[1, 2],\n",
       "       [3, 4],\n",
       "       [5, 6]])"
      ]
     },
     "execution_count": 12,
     "metadata": {},
     "output_type": "execute_result"
    }
   ],
   "source": [
    "a = np.arange(1, 7).reshape(3, 2)\n",
    "a"
   ]
  },
  {
   "cell_type": "code",
   "execution_count": 14,
   "id": "6f53a6e6",
   "metadata": {},
   "outputs": [
    {
     "data": {
      "text/plain": [
       "array([1, 2, 3, 7, 8, 4, 5, 6])"
      ]
     },
     "execution_count": 14,
     "metadata": {},
     "output_type": "execute_result"
    }
   ],
   "source": [
    "# 未传入axis参数，在插入之前目标数组会被展开\n",
    "b = np.insert(a, 3, [7, 8])\n",
    "b"
   ]
  },
  {
   "cell_type": "code",
   "execution_count": 16,
   "id": "b1aebe2d",
   "metadata": {},
   "outputs": [
    {
     "data": {
      "text/plain": [
       "array([[1, 2],\n",
       "       [7, 7],\n",
       "       [3, 4],\n",
       "       [5, 6]])"
      ]
     },
     "execution_count": 16,
     "metadata": {},
     "output_type": "execute_result"
    }
   ],
   "source": [
    "# 沿轴0广播\n",
    "b0 = np.insert(a, 1, [7], axis=0)\n",
    "b0"
   ]
  },
  {
   "cell_type": "code",
   "execution_count": 17,
   "id": "70f1c63f",
   "metadata": {},
   "outputs": [
    {
     "data": {
      "text/plain": [
       "array([[1, 8, 2],\n",
       "       [3, 8, 4],\n",
       "       [5, 8, 6]])"
      ]
     },
     "execution_count": 17,
     "metadata": {},
     "output_type": "execute_result"
    }
   ],
   "source": [
    "# 沿轴1广播\n",
    "b1 = np.insert(a, 1, 8, axis=1)\n",
    "b1"
   ]
  },
  {
   "cell_type": "markdown",
   "id": "39a81549",
   "metadata": {},
   "source": [
    "# delete\n",
    "\n",
    "- Numpy.delete(arr, obj, axis)\n",
    "- delete 函数返回从输入数组中删除指定子数组的新数组\n",
    "- 与 insert() 函数的情况一样，如果未提供轴参数，则输入数组将展开"
   ]
  },
  {
   "cell_type": "code",
   "execution_count": 18,
   "id": "2063cce0",
   "metadata": {},
   "outputs": [
    {
     "data": {
      "text/plain": [
       "array([[ 0,  1,  2,  3],\n",
       "       [ 4,  5,  6,  7],\n",
       "       [ 8,  9, 10, 11]])"
      ]
     },
     "execution_count": 18,
     "metadata": {},
     "output_type": "execute_result"
    }
   ],
   "source": [
    "a = np.arange(12).reshape(3, 4)\n",
    "a"
   ]
  },
  {
   "cell_type": "code",
   "execution_count": 20,
   "id": "e909bc89",
   "metadata": {
    "scrolled": true
   },
   "outputs": [
    {
     "data": {
      "text/plain": [
       "array([ 0,  1,  2,  3,  4,  6,  7,  8,  9, 10, 11])"
      ]
     },
     "execution_count": 20,
     "metadata": {},
     "output_type": "execute_result"
    }
   ],
   "source": [
    "# 未传递axis参数，数组将被展开\n",
    "b = np.delete(a, 5)\n",
    "b"
   ]
  },
  {
   "cell_type": "code",
   "execution_count": 22,
   "id": "05be6dbe",
   "metadata": {},
   "outputs": [
    {
     "data": {
      "text/plain": [
       "array([[ 0,  1,  2,  3],\n",
       "       [ 8,  9, 10, 11]])"
      ]
     },
     "execution_count": 22,
     "metadata": {},
     "output_type": "execute_result"
    }
   ],
   "source": [
    "# 删除第二行\n",
    "b0 = np.delete(a, 1, axis=0)\n",
    "b0"
   ]
  },
  {
   "cell_type": "code",
   "execution_count": 21,
   "id": "549fd4ae",
   "metadata": {},
   "outputs": [
    {
     "data": {
      "text/plain": [
       "array([[ 0,  2,  3],\n",
       "       [ 4,  6,  7],\n",
       "       [ 8, 10, 11]])"
      ]
     },
     "execution_count": 21,
     "metadata": {},
     "output_type": "execute_result"
    }
   ],
   "source": [
    "# 删除第二列\n",
    "b1 = np.delete(a, 1, axis=1)\n",
    "b1"
   ]
  },
  {
   "cell_type": "markdown",
   "id": "8ecf5ecf",
   "metadata": {},
   "source": [
    "# unique\n",
    "\n",
    "- unique 函数用于去除数组中的重复元素\n",
    "- numpy.unique(arr, return_index, return_inverse, return_counts)\n",
    "  - arr：输入数组，如果不是一维数组则会展开\n",
    "  - return_index：如果为true，返回新列表元素在旧列表中的位置（下标），并以列表形式存储\n",
    "  - return_inverse：如果为true，返回旧列表元素在新列表中的位置（下标），并以列表形式存储\n",
    "  - return_counts：如果为true，返回去重数组中的元素在原数组中的出现次数"
   ]
  },
  {
   "cell_type": "code",
   "execution_count": 23,
   "id": "9838e0e2",
   "metadata": {},
   "outputs": [
    {
     "data": {
      "text/plain": [
       "array([1, 2, 3, 4, 5, 6])"
      ]
     },
     "execution_count": 23,
     "metadata": {},
     "output_type": "execute_result"
    }
   ],
   "source": [
    "a = np.array([1, 2, 2, 3, 3, 3, 4, 5, 5, 6])\n",
    "\n",
    "b = np.unique(a)\n",
    "b"
   ]
  },
  {
   "cell_type": "code",
   "execution_count": 24,
   "id": "1d6ef120",
   "metadata": {},
   "outputs": [
    {
     "data": {
      "text/plain": [
       "array([0, 1, 3, 6, 7, 9], dtype=int64)"
      ]
     },
     "execution_count": 24,
     "metadata": {},
     "output_type": "execute_result"
    }
   ],
   "source": [
    "u, indices = np.unique(a, return_index=True)\n",
    "\n",
    "indices"
   ]
  }
 ],
 "metadata": {
  "kernelspec": {
   "display_name": "Python 3 (ipykernel)",
   "language": "python",
   "name": "python3"
  },
  "language_info": {
   "codemirror_mode": {
    "name": "ipython",
    "version": 3
   },
   "file_extension": ".py",
   "mimetype": "text/x-python",
   "name": "python",
   "nbconvert_exporter": "python",
   "pygments_lexer": "ipython3",
   "version": "3.11.4"
  }
 },
 "nbformat": 4,
 "nbformat_minor": 5
}
