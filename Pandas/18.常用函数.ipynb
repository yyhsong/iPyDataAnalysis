{
 "cells": [
  {
   "cell_type": "markdown",
   "id": "0a73187b",
   "metadata": {},
   "source": [
    "# 读取数据\n",
    "\n",
    "- pd.read_csv(filename)  读取 CSV 文件\n",
    "- pd.read_excel(filename)  \t读取 Excel 文件\n",
    "- pd.read_sql(query, connection_object)  \t从 SQL 数据库读取数据\n",
    "- pd.read_json(json_string)  从 JSON 字符串中读取数据\n",
    "- pd.read_html(url)  \t从 HTML 页面中读取数据"
   ]
  },
  {
   "cell_type": "markdown",
   "id": "621a45fd",
   "metadata": {},
   "source": [
    "# 查看数据\n",
    "\n",
    "- df.head(n) 显示前 n 行数据\n",
    "- df.tail(n) 显示后 n 行数据\n",
    "- df.sample(n) 随机显示 n 行数据\n",
    "- df.info() 显示数据的信息，包括列名、数据类型、缺失值等\n",
    "- df.describe() 显示数据的基本统计信息，包括均值、方差、最大值、最小值等\n",
    "- df.shape 显示数据的行数和列数"
   ]
  },
  {
   "cell_type": "markdown",
   "id": "106a116b",
   "metadata": {},
   "source": [
    "# 数据清洗\n",
    "\n",
    "- df.dropna() 删除包含缺失值的行或列\n",
    "- df.fillna(value) \t将缺失值替换为指定的值\n",
    "- df.replace(old_value, new_value) \t将指定值替换为新值\n",
    "- df.duplicated() 检查是否有重复的数据\n",
    "- df.drop_duplicates() 删除重复的数据"
   ]
  },
  {
   "cell_type": "markdown",
   "id": "30a444be",
   "metadata": {},
   "source": [
    "# 数据选择和切片\n",
    "\n",
    "- `df[column_name]` 选择指定的列\n",
    "- `df.loc[row_index, column_name]` \t通过标签选择数据\n",
    "- `df.iloc[row_index, column_index]` 通过位置选择数据\n",
    "- `df.ix[row_index, column_name]` \t通过标签或位置选择数据\n",
    "- `df.filter(items=[column_name1, column_name2])` \t选择指定的列\n",
    "- `df.filter(regex='regex')` \t选择列名匹配正则表达式的列"
   ]
  },
  {
   "cell_type": "markdown",
   "id": "ab3ebd2f",
   "metadata": {},
   "source": [
    "# 数据排序\n",
    "\n",
    "- df.sort_values(column_name) 按照指定列的值排序\n",
    "- df.sort_values([column_name1, column_name2], ascending=[True, False]) 按照多个列的值排序\n",
    "- df.sort_index() \t按照索引排序"
   ]
  },
  {
   "cell_type": "markdown",
   "id": "5dcd8670",
   "metadata": {},
   "source": [
    "# 数据分组和聚合\n",
    "\n",
    "- df.groupby(column_name) 按照指定列进行分组\n",
    "- df.aggregate(function_name) 对分组后的数据进行聚合操作\n",
    "- df.pivot_table(values, index, columns, aggfunc) 生成透视表"
   ]
  },
  {
   "cell_type": "markdown",
   "id": "eb7648a1",
   "metadata": {},
   "source": [
    "# 数据合并\n",
    "\n",
    "- pd.concat([df1, df2]) 将多个数据框按照行或列进行合并\n",
    "- pd.merge(df1, df2, on=column_name) 按照指定列将两个数据框进行合并"
   ]
  },
  {
   "cell_type": "markdown",
   "id": "e3f16212",
   "metadata": {},
   "source": [
    "# 数据选择和过滤\n",
    "\n",
    "- df.loc[row_indexer, column_indexer] 按标签选择行和列\n",
    "- df.iloc[row_indexer, column_indexer] 按位置选择行和列\n",
    "- df[df['column_name'] > value] 选择列中满足条件的行\n",
    "- df.query('column_name > value') 使用字符串表达式选择列中满足条件的行"
   ]
  },
  {
   "cell_type": "markdown",
   "id": "8904cac4",
   "metadata": {},
   "source": [
    "# 数据统计和描述\n",
    "\n",
    "- df.describe() 计算基本统计信息，如均值、标准差、最小值、最大值等\n",
    "- df.mean() 计算每列的平均值\n",
    "- df.median() 计算每列的中位数\n",
    "- df.mode() 计算每列的众数\n",
    "- df.count() 计算每列非缺失值的数量"
   ]
  }
 ],
 "metadata": {
  "kernelspec": {
   "display_name": "Python 3 (ipykernel)",
   "language": "python",
   "name": "python3"
  },
  "language_info": {
   "codemirror_mode": {
    "name": "ipython",
    "version": 3
   },
   "file_extension": ".py",
   "mimetype": "text/x-python",
   "name": "python",
   "nbconvert_exporter": "python",
   "pygments_lexer": "ipython3",
   "version": "3.11.4"
  }
 },
 "nbformat": 4,
 "nbformat_minor": 5
}
