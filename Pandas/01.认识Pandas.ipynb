{
 "cells": [
  {
   "cell_type": "code",
   "execution_count": 1,
   "metadata": {},
   "outputs": [],
   "source": [
    "import pandas as pd"
   ]
  },
  {
   "cell_type": "markdown",
   "metadata": {},
   "source": [
    "# Pandas是什么\n",
    "\n",
    "- Pandas是一个强大的结构化数据分析工具集，可用于数据清洗、数据分析及挖掘\n",
    "- Pandas是基于Numpy实现的，常与Numpy和Matplotlib一同使用\n",
    "- 它有Series和DataFrame两个核心对象\n",
    "- Series = 索引 + 一维数据\n",
    "- DataFrame = 行列索引 + 二维数据\n",
    "- 向对待单一数据一样对待Series和DataFrame对象\n",
    "- 操作索引即操作数据\n",
    "\n",
    "## Series\n",
    "\n",
    "- Series是一种类似于一维数组的对象，是由一组数据（各种Numpy数据类型）以及一组与之相关的数据标签（索引）组成\n",
    "- 仅由一组数据也可产生简单的Series对象\n",
    "\n",
    "## DataFrame\n",
    "\n",
    "- DataFrame是一个表格型的数据结构，包含一组有序的列，每一列可以是不同的值类型（数值、字符串、布尔型等）\n",
    "- DataFrame既有行索引，又有列索引，可以被看做是由Series组成的字典"
   ]
  },
  {
   "cell_type": "code",
   "execution_count": 3,
   "metadata": {},
   "outputs": [
    {
     "name": "stdout",
     "output_type": "stream",
     "text": [
      "Series([], dtype: object)\n"
     ]
    }
   ],
   "source": [
    "# 创建Series对象\n",
    "s = pd.Series(dtype='object')\n",
    "\n",
    "print(s)"
   ]
  },
  {
   "cell_type": "code",
   "execution_count": 4,
   "metadata": {},
   "outputs": [
    {
     "name": "stdout",
     "output_type": "stream",
     "text": [
      "Empty DataFrame\n",
      "Columns: []\n",
      "Index: []\n"
     ]
    }
   ],
   "source": [
    "# 创建DataFrame对象\n",
    "df = pd.DataFrame()\n",
    "\n",
    "print(df)"
   ]
  }
 ],
 "metadata": {
  "kernelspec": {
   "display_name": "Python 3",
   "language": "python",
   "name": "python3"
  },
  "language_info": {
   "codemirror_mode": {
    "name": "ipython",
    "version": 3
   },
   "file_extension": ".py",
   "mimetype": "text/x-python",
   "name": "python",
   "nbconvert_exporter": "python",
   "pygments_lexer": "ipython3",
   "version": "3.8.5"
  }
 },
 "nbformat": 4,
 "nbformat_minor": 4
}
