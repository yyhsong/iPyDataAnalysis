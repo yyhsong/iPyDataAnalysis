{
 "cells": [
  {
   "cell_type": "code",
   "execution_count": 3,
   "metadata": {},
   "outputs": [],
   "source": [
    "import numpy as np\n",
    "import pandas as pd"
   ]
  },
  {
   "cell_type": "code",
   "execution_count": 8,
   "metadata": {},
   "outputs": [
    {
     "data": {
      "text/html": [
       "<div>\n",
       "<style scoped>\n",
       "    .dataframe tbody tr th:only-of-type {\n",
       "        vertical-align: middle;\n",
       "    }\n",
       "\n",
       "    .dataframe tbody tr th {\n",
       "        vertical-align: top;\n",
       "    }\n",
       "\n",
       "    .dataframe thead th {\n",
       "        text-align: right;\n",
       "    }\n",
       "</style>\n",
       "<table border=\"1\" class=\"dataframe\">\n",
       "  <thead>\n",
       "    <tr style=\"text-align: right;\">\n",
       "      <th></th>\n",
       "      <th>code</th>\n",
       "      <th>color</th>\n",
       "      <th>颜色</th>\n",
       "    </tr>\n",
       "  </thead>\n",
       "  <tbody>\n",
       "    <tr>\n",
       "      <th>c3</th>\n",
       "      <td>0000ff</td>\n",
       "      <td>blue</td>\n",
       "      <td>蓝色</td>\n",
       "    </tr>\n",
       "    <tr>\n",
       "      <th>c2</th>\n",
       "      <td>00ff00</td>\n",
       "      <td>green</td>\n",
       "      <td>绿色</td>\n",
       "    </tr>\n",
       "    <tr>\n",
       "      <th>c1</th>\n",
       "      <td>ff0000</td>\n",
       "      <td>red</td>\n",
       "      <td>红色</td>\n",
       "    </tr>\n",
       "  </tbody>\n",
       "</table>\n",
       "</div>"
      ],
      "text/plain": [
       "      code  color  颜色\n",
       "c3  0000ff   blue  蓝色\n",
       "c2  00ff00  green  绿色\n",
       "c1  ff0000    red  红色"
      ]
     },
     "execution_count": 8,
     "metadata": {},
     "output_type": "execute_result"
    }
   ],
   "source": [
    "# 重新索引\n",
    "# reindex()能够改变或重拍Series和DataFrame索引\n",
    "# reindex()参数：\n",
    "# - index, columns  新和行、列自定义索引\n",
    "# - fill_value  重新索引中，用于填充缺失位置的值\n",
    "# - method  填充方法，ffill当前值向前填充，bfill向后填充\n",
    "# - limit  最大填充量\n",
    "# - copy  默认True，生成新的对象，False时，新旧相等不复制\n",
    "\n",
    "colors = {\n",
    "    '颜色': ['红色', '绿色', '蓝色'],\n",
    "    'color': ['red', 'green', 'blue'],\n",
    "    'code': ['ff0000', '00ff00', '0000ff']\n",
    "}\n",
    "d = pd.DataFrame(colors, index=['c1', 'c2', 'c3'])\n",
    "\n",
    "# 重排行索引\n",
    "d = d.reindex(index=['c3', 'c2', 'c1'])\n",
    "\n",
    "# 重排列索引\n",
    "d = d.reindex(columns=['code', 'color', '颜色'])\n",
    "\n",
    "d"
   ]
  },
  {
   "cell_type": "code",
   "execution_count": 11,
   "metadata": {},
   "outputs": [
    {
     "data": {
      "text/plain": [
       "Index(['code', 'color', '颜色'], dtype='object')"
      ]
     },
     "execution_count": 11,
     "metadata": {},
     "output_type": "execute_result"
    }
   ],
   "source": [
    "# 索引类型\n",
    "# 索引是Index类型\n",
    "# Index对象是只读类型\n",
    "# 对索引的操作即是对数据的操作\n",
    "\n",
    "d.index\n",
    "d.columns"
   ]
  },
  {
   "cell_type": "markdown",
   "metadata": {},
   "source": [
    "# 索引类型的常用方法\n",
    "\n",
    "- append(idx)  连接另一个Index对象，产生新的Index对象\n",
    "- diff(idx)  计算差集，产生新的Index对象\n",
    "- intersection(idx)  计算交集\n",
    "- union(idx)  计算并集\n",
    "- delete(loc)  删除loc位置处的元素\n",
    "- insert(loc, e)  在loc位置增加一个元素"
   ]
  },
  {
   "cell_type": "code",
   "execution_count": 17,
   "metadata": {},
   "outputs": [
    {
     "data": {
      "text/html": [
       "<div>\n",
       "<style scoped>\n",
       "    .dataframe tbody tr th:only-of-type {\n",
       "        vertical-align: middle;\n",
       "    }\n",
       "\n",
       "    .dataframe tbody tr th {\n",
       "        vertical-align: top;\n",
       "    }\n",
       "\n",
       "    .dataframe thead th {\n",
       "        text-align: right;\n",
       "    }\n",
       "</style>\n",
       "<table border=\"1\" class=\"dataframe\">\n",
       "  <thead>\n",
       "    <tr style=\"text-align: right;\">\n",
       "      <th></th>\n",
       "      <th>color</th>\n",
       "      <th>颜色</th>\n",
       "    </tr>\n",
       "  </thead>\n",
       "  <tbody>\n",
       "    <tr>\n",
       "      <th>c3</th>\n",
       "      <td>blue</td>\n",
       "      <td>蓝色</td>\n",
       "    </tr>\n",
       "    <tr>\n",
       "      <th>c2</th>\n",
       "      <td>green</td>\n",
       "      <td>绿色</td>\n",
       "    </tr>\n",
       "    <tr>\n",
       "      <th>c1</th>\n",
       "      <td>red</td>\n",
       "      <td>红色</td>\n",
       "    </tr>\n",
       "    <tr>\n",
       "      <th>c0</th>\n",
       "      <td>red</td>\n",
       "      <td>红色</td>\n",
       "    </tr>\n",
       "  </tbody>\n",
       "</table>\n",
       "</div>"
      ],
      "text/plain": [
       "    color  颜色\n",
       "c3   blue  蓝色\n",
       "c2  green  绿色\n",
       "c1    red  红色\n",
       "c0    red  红色"
      ]
     },
     "execution_count": 17,
     "metadata": {},
     "output_type": "execute_result"
    }
   ],
   "source": [
    "ni = d.index.insert(3, 'c0')\n",
    "nc = d.columns.delete(0)\n",
    "\n",
    "nd = d.reindex(index=ni, columns=nc, method='ffill')\n",
    "\n",
    "nd"
   ]
  },
  {
   "cell_type": "code",
   "execution_count": 22,
   "metadata": {
    "scrolled": true
   },
   "outputs": [
    {
     "data": {
      "text/html": [
       "<div>\n",
       "<style scoped>\n",
       "    .dataframe tbody tr th:only-of-type {\n",
       "        vertical-align: middle;\n",
       "    }\n",
       "\n",
       "    .dataframe tbody tr th {\n",
       "        vertical-align: top;\n",
       "    }\n",
       "\n",
       "    .dataframe thead th {\n",
       "        text-align: right;\n",
       "    }\n",
       "</style>\n",
       "<table border=\"1\" class=\"dataframe\">\n",
       "  <thead>\n",
       "    <tr style=\"text-align: right;\">\n",
       "      <th></th>\n",
       "      <th>color</th>\n",
       "      <th>颜色</th>\n",
       "    </tr>\n",
       "  </thead>\n",
       "  <tbody>\n",
       "    <tr>\n",
       "      <th>c3</th>\n",
       "      <td>blue</td>\n",
       "      <td>蓝色</td>\n",
       "    </tr>\n",
       "    <tr>\n",
       "      <th>c2</th>\n",
       "      <td>green</td>\n",
       "      <td>绿色</td>\n",
       "    </tr>\n",
       "  </tbody>\n",
       "</table>\n",
       "</div>"
      ],
      "text/plain": [
       "    color  颜色\n",
       "c3   blue  蓝色\n",
       "c2  green  绿色"
      ]
     },
     "execution_count": 22,
     "metadata": {},
     "output_type": "execute_result"
    }
   ],
   "source": [
    "# 删除指定索引对象\n",
    "# drop()能够删除指定的行或列索引\n",
    "\n",
    "# 默认删除行索引\n",
    "d1 = d.drop(['c1'])\n",
    "\n",
    "# 删除列索引\n",
    "d2 = d1.drop('code', axis=1)\n",
    "\n",
    "d2"
   ]
  }
 ],
 "metadata": {
  "kernelspec": {
   "display_name": "Python 3",
   "language": "python",
   "name": "python3"
  },
  "language_info": {
   "codemirror_mode": {
    "name": "ipython",
    "version": 3
   },
   "file_extension": ".py",
   "mimetype": "text/x-python",
   "name": "python",
   "nbconvert_exporter": "python",
   "pygments_lexer": "ipython3",
   "version": "3.8.5"
  }
 },
 "nbformat": 4,
 "nbformat_minor": 4
}
