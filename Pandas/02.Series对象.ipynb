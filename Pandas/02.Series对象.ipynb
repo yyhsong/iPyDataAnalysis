{
 "cells": [
  {
   "cell_type": "code",
   "execution_count": 1,
   "metadata": {},
   "outputs": [],
   "source": [
    "import numpy as np\n",
    "import pandas as pd"
   ]
  },
  {
   "cell_type": "markdown",
   "metadata": {},
   "source": [
    "# Sereis对象的创建\n",
    "\n",
    "Series类型可以由如下类型创建：\n",
    "- 标量值，index表达Series类型的尺寸\n",
    "- 列表，index与列表元素个数一致\n",
    "- 字典，键值对中的键即索引，index从字典中进行选择操作\n",
    "- ndarray，索引和数据都可以通过ndarray类型创建\n",
    "- 其他函数，如range()函数等"
   ]
  },
  {
   "cell_type": "code",
   "execution_count": 2,
   "metadata": {},
   "outputs": [
    {
     "data": {
      "text/plain": [
       "a    1\n",
       "b    1\n",
       "c    1\n",
       "d    1\n",
       "dtype: int64"
      ]
     },
     "execution_count": 2,
     "metadata": {},
     "output_type": "execute_result"
    }
   ],
   "source": [
    "# 从标量创建\n",
    "s = pd.Series(1, index=['a', 'b', 'c', 'd'])\n",
    "s"
   ]
  },
  {
   "cell_type": "code",
   "execution_count": 3,
   "metadata": {
    "scrolled": true
   },
   "outputs": [
    {
     "data": {
      "text/plain": [
       "a    1\n",
       "b    2\n",
       "c    3\n",
       "d    4\n",
       "dtype: int64"
      ]
     },
     "execution_count": 3,
     "metadata": {},
     "output_type": "execute_result"
    }
   ],
   "source": [
    "# 从列表创建，可以省略index\n",
    "s = pd.Series([1, 2, 3, 4], ['a', 'b', 'c', 'd'])\n",
    "s"
   ]
  },
  {
   "cell_type": "code",
   "execution_count": 4,
   "metadata": {},
   "outputs": [
    {
     "data": {
      "text/plain": [
       "a    1\n",
       "b    2\n",
       "c    3\n",
       "d    4\n",
       "dtype: int64"
      ]
     },
     "execution_count": 4,
     "metadata": {},
     "output_type": "execute_result"
    }
   ],
   "source": [
    "# 从字典创建\n",
    "s = pd.Series({'a':1, 'b':2, 'c':3, 'd':4})\n",
    "s"
   ]
  },
  {
   "cell_type": "code",
   "execution_count": 5,
   "metadata": {},
   "outputs": [
    {
     "data": {
      "text/plain": [
       "9    1\n",
       "8    2\n",
       "7    3\n",
       "6    4\n",
       "dtype: int32"
      ]
     },
     "execution_count": 5,
     "metadata": {},
     "output_type": "execute_result"
    }
   ],
   "source": [
    "# 从ndarray创建\n",
    "s = pd.Series(np.arange(1,5), index=np.arange(9, 5, -1))\n",
    "s"
   ]
  },
  {
   "cell_type": "markdown",
   "metadata": {},
   "source": [
    "# Series的基本操作\n",
    "\n",
    "Series类型包含index和values两部分\n",
    "\n",
    "Series类型的操作类似ndarray类型\n",
    "- 索引方法相同，采用[]\n",
    "- Numpy中的运算和操作可用于Series类型\n",
    "- 可以通过自定义索引的列表进行切片\n",
    "- 可以通过自动索引进行切片，如果同时存在自定义索引，则一同被切片\n",
    "\n",
    "Series类型的操作类似Python字典\n",
    "- 通过自定义索引访问\n",
    "- 保留字in操作\n",
    "- 使用get()方法"
   ]
  },
  {
   "cell_type": "code",
   "execution_count": 6,
   "metadata": {},
   "outputs": [
    {
     "name": "stdout",
     "output_type": "stream",
     "text": [
      "索引： Index(['a', 'b', 'c', 'd'], dtype='object')\n",
      "数据： [1 2 3 4]\n"
     ]
    },
    {
     "data": {
      "text/plain": [
       "array([1, 2, 3, 4], dtype=int64)"
      ]
     },
     "execution_count": 6,
     "metadata": {},
     "output_type": "execute_result"
    }
   ],
   "source": [
    "# 获取索引和数据\n",
    "s = pd.Series([1, 2, 3, 4], index=['a', 'b', 'c', 'd'])\n",
    "\n",
    "print('索引：', s.index)\n",
    "print('数据：', s.values)\n",
    "s.values"
   ]
  },
  {
   "cell_type": "code",
   "execution_count": 7,
   "metadata": {
    "scrolled": true
   },
   "outputs": [
    {
     "name": "stdout",
     "output_type": "stream",
     "text": [
      "1\n",
      "1\n"
     ]
    }
   ],
   "source": [
    "# 自动和自定义两套索引可以并存，但不能混用\n",
    "print(s[0])\n",
    "print(s['a'])"
   ]
  },
  {
   "cell_type": "code",
   "execution_count": 8,
   "metadata": {
    "scrolled": true
   },
   "outputs": [
    {
     "data": {
      "text/plain": [
       "b    2\n",
       "c    3\n",
       "dtype: int64"
      ]
     },
     "execution_count": 8,
     "metadata": {},
     "output_type": "execute_result"
    }
   ],
   "source": [
    "# 切片\n",
    "s[1:3]"
   ]
  },
  {
   "cell_type": "code",
   "execution_count": 9,
   "metadata": {},
   "outputs": [
    {
     "name": "stdout",
     "output_type": "stream",
     "text": [
      "1\n",
      "True\n",
      "False\n",
      "4\n",
      "5\n"
     ]
    }
   ],
   "source": [
    "# 类似字典的操作\n",
    "s = pd.Series([1, 2, 3, 4], ['a', 'b', 'c', 'd'])\n",
    "\n",
    "print(s['a'])\n",
    "print('b' in s)\n",
    "print(3 in s)\n",
    "print(s.get('d'))\n",
    "print(s.get('f', 5))"
   ]
  },
  {
   "cell_type": "markdown",
   "metadata": {},
   "source": [
    "# Series的对齐操作\n",
    "\n",
    "Series在运算中会自动对齐不同索引的数据"
   ]
  },
  {
   "cell_type": "code",
   "execution_count": 10,
   "metadata": {},
   "outputs": [
    {
     "data": {
      "text/plain": [
       "a     NaN\n",
       "b     NaN\n",
       "c     8.0\n",
       "d    10.0\n",
       "e     NaN\n",
       "dtype: float64"
      ]
     },
     "execution_count": 10,
     "metadata": {},
     "output_type": "execute_result"
    }
   ],
   "source": [
    "a = pd.Series([1, 2, 3, 4], ['a', 'b', 'c', 'd'])\n",
    "b = pd.Series([5, 6, 7], ['c', 'd', 'e'])\n",
    "\n",
    "a + b"
   ]
  },
  {
   "cell_type": "markdown",
   "metadata": {},
   "source": [
    "# Series的name属性\n",
    "\n",
    "- Series对象和索引都可以有一个名字，存储在name属性中\n",
    "- Series对象可以随时修改并立即生效"
   ]
  },
  {
   "cell_type": "code",
   "execution_count": 11,
   "metadata": {},
   "outputs": [
    {
     "name": "stdout",
     "output_type": "stream",
     "text": [
      "None\n",
      "None\n",
      "系列\n",
      "索引\n"
     ]
    },
    {
     "data": {
      "text/plain": [
       "索引\n",
       "a    1\n",
       "b    2\n",
       "c    3\n",
       "d    4\n",
       "Name: 系列, dtype: int64"
      ]
     },
     "execution_count": 11,
     "metadata": {},
     "output_type": "execute_result"
    }
   ],
   "source": [
    "s = pd.Series([1, 2, 3, 4], ['a', 'b', 'c', 'd'])\n",
    "\n",
    "print(s.name)\n",
    "print(s.index.name)\n",
    "\n",
    "s.name = '系列'\n",
    "s.index.name = '索引'\n",
    "\n",
    "print(s.name)\n",
    "print(s.index.name)\n",
    "\n",
    "s"
   ]
  }
 ],
 "metadata": {
  "kernelspec": {
   "display_name": "Python 3",
   "language": "python",
   "name": "python3"
  },
  "language_info": {
   "codemirror_mode": {
    "name": "ipython",
    "version": 3
   },
   "file_extension": ".py",
   "mimetype": "text/x-python",
   "name": "python",
   "nbconvert_exporter": "python",
   "pygments_lexer": "ipython3",
   "version": "3.8.5"
  }
 },
 "nbformat": 4,
 "nbformat_minor": 4
}
